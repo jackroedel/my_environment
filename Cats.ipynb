{
 "cells": [
  {
   "cell_type": "code",
   "execution_count": null,
   "id": "9296f3fe",
   "metadata": {},
   "outputs": [],
   "source": [
    "import os\n",
    "import numpy\n",
    "from matplotlib import image\n",
    "from matplotlib import pyplot\n",
    "import tensorflow as tf\n",
    "import os\n",
    "\n",
    "from tensorflow.compat.v1 import ConfigProto\n",
    "from tensorflow.compat.v1 import InteractiveSession\n",
    "\n",
    "config = ConfigProto()\n",
    "config.gpu_options.allow_growth = True\n",
    "session = InteractiveSession(config=config)"
   ]
  },
  {
   "cell_type": "code",
   "execution_count": null,
   "id": "733546eb",
   "metadata": {},
   "outputs": [],
   "source": [
    "file_name = \"CAT_final_2\"\n",
    "def remove_dot_cat(file_name):\n",
    "    Folders =[file_name]\n",
    "    new_data = []\n",
    "\n",
    "    for c in Folders:\n",
    "        for i in range(len(Folders)):\n",
    "            path1 = '/disk0/' + Folders[i] + '/'\n",
    "            data = os.listdir(path1)\n",
    "            for img_name in data:\n",
    "                if 'cat' not in img_name:\n",
    "                    img_name = '/disk0/'+ c + '/' + img_name\n",
    "                    new_data.append(img_name)\n",
    "                #else:\n",
    "                    #img_name = '/disk0/'+ c + '/' + img_name\n",
    "                    #img_name = img_name.replace('.cat', '')\n",
    "                    #new_data.append(img_name)\n",
    "    return new_data\n",
    "new_data_x = remove_dot_cat(file_name)"
   ]
  },
  {
   "cell_type": "code",
   "execution_count": null,
   "id": "c51ebd74",
   "metadata": {
    "scrolled": true
   },
   "outputs": [],
   "source": [
    "new_data_x.sort()\n",
    "X_full = [image.imread(new_data_x[i]) for i in range(len(new_data_x))]\n",
    "X_full = numpy.array(X_full, dtype=object)"
   ]
  },
  {
   "cell_type": "code",
   "execution_count": null,
   "id": "bc021199",
   "metadata": {},
   "outputs": [],
   "source": [
    "def create_y_data(new_data_x):\n",
    "    new_data_y = [s + \".cat\" for s in new_data_x]\n",
    "    for i in range(len(new_data_y)):\n",
    "        if not os.path.exists(new_data_y[i]):\n",
    "            del new_data_x[i]\n",
    "            del new_data_y[i]\n",
    "    return new_data_y\n",
    "\n",
    "new_data_y = create_y_data(new_data_x)"
   ]
  },
  {
   "cell_type": "code",
   "execution_count": null,
   "id": "0b8bfae9",
   "metadata": {},
   "outputs": [],
   "source": [
    "def read_y_data(y_data):\n",
    "    Y_full = []\n",
    "    for i in range(len(y_data)):\n",
    "        with open(y_data[i]) as f:\n",
    "            Y_full.append(f.read())\n",
    "            f.close()\n",
    "        \n",
    "    for i in range(len(Y_full)):\n",
    "        Y_full[i] = Y_full[i].split()\n",
    "\n",
    "    return numpy.array(Y_full, dtype=numpy.half)\n",
    "\n",
    "Y_full = read_y_data(new_data_y)\n",
    "\n",
    "for i in range(len(Y_full)):\n",
    "    for m in range(19):\n",
    "        if m%2 ==1:\n",
    "            Y_full[i][m] = Y_full[i][m]*(256./X_full[i].shape[1])\n",
    "        else:\n",
    "            Y_full[i][m] = Y_full[i][m]*(256./X_full[i].shape[0])"
   ]
  },
  {
   "cell_type": "code",
   "execution_count": null,
   "id": "6ae5e27b",
   "metadata": {},
   "outputs": [],
   "source": [
    "from PIL import Image as im\n",
    "\n",
    "def rewrite(images, image_names, labels, file_progenitor):\n",
    "    for i in range(len(images)):\n",
    "        index = 19\n",
    "        write_path = image_names[i].replace(file_progenitor, 'CAT_final_2')\n",
    "        write_path = write_path[:index] + str(file_progenitor) + '_' + write_path[index:]\n",
    "        print(write_path)\n",
    "        array_image = im.fromarray(images[i])\n",
    "        array_image.save(write_path)\n",
    "        labels[i].tofile(write_path.replace('.jpg', '.csv'), sep=',', format='%i' )\n",
    "        \n",
    "rewrite(X_full, new_data_x, Y_full, file_name)"
   ]
  },
  {
   "cell_type": "code",
   "execution_count": null,
   "id": "0aca7d9a",
   "metadata": {},
   "outputs": [],
   "source": [
    "import os\n",
    "import csv\n",
    "\n",
    "def find_csv(file_name):\n",
    "    path1 = '/disk0/' + file_name + '/'\n",
    "    data = os.listdir(path1)\n",
    "    new_data = []\n",
    "    \n",
    "    for csv_name in data:\n",
    "        if '.csv' in csv_name:\n",
    "            csv_name = path1 + csv_name\n",
    "            new_data.append(csv_name)\n",
    "    \n",
    "    new_data.sort()\n",
    "    csv_values = []\n",
    "    for i in new_data:\n",
    "        with open(i) as csv_file:\n",
    "            csv_reader = csv.reader(csv_file, delimiter=',')\n",
    "            for row in csv_reader:\n",
    "                csv_values.append(row)\n",
    "            csv_file.close\n",
    "    return csv_values\n",
    "\n",
    "csv_values = find_csv('CAT_final_2')"
   ]
  },
  {
   "cell_type": "code",
   "execution_count": null,
   "id": "e3259a80",
   "metadata": {},
   "outputs": [],
   "source": [
    "import numpy as np\n",
    "csv_values = np.array(csv_values, np.uint8)\n",
    "csv_values=np.delete(csv_values, 0, 1)"
   ]
  },
  {
   "cell_type": "code",
   "execution_count": null,
   "id": "92d7bb44",
   "metadata": {},
   "outputs": [],
   "source": [
    "print(csv_values[0][::2])\n",
    "print(csv_values[0][::-2])\n",
    "print(csv_values[0])"
   ]
  },
  {
   "cell_type": "code",
   "execution_count": 2,
   "id": "156f2cf7",
   "metadata": {},
   "outputs": [],
   "source": [
    "#Find boxes, \n",
    "#apply Y values to boxes\n",
    "def find_jpg(file_name):\n",
    "    path1 = '/disk0/' + file_name + '/'\n",
    "    data = os.listdir(path1)\n",
    "    new_data = []\n",
    "    \n",
    "    for img_name in data:\n",
    "        if '.jpg' in img_name:\n",
    "            img_name = path1 + img_name\n",
    "            new_data.append(img_name)\n",
    "    \n",
    "    new_data.sort()\n",
    "    return new_data"
   ]
  },
  {
   "cell_type": "code",
   "execution_count": 5,
   "id": "07a49594",
   "metadata": {},
   "outputs": [],
   "source": [
    "import numpy as np\n",
    "import cv2\n",
    "from matplotlib import pyplot as plt\n",
    "import os\n",
    "\n",
    "face_cascade = cv2.CascadeClassifier(cv2.data.haarcascades + 'haarcascade_frontalcatface.xml')\n",
    "face_cascade_ext = cv2.CascadeClassifier(cv2.data.haarcascades + 'haarcascade_frontalcatface_extended.xml')\n",
    "\n",
    "\n",
    "def haar_values(file):\n",
    "    img = cv2.imread(file)\n",
    "    gray = cv2.cvtColor(img, cv2.COLOR_BGR2GRAY)\n",
    "    gray = cv2.equalizeHist(gray)\n",
    "    \n",
    "    faces = face_cascade.detectMultiScale(img, 1.03, 3)\n",
    "    faces_ext = face_cascade_ext.detectMultiScale(img, 1.05, 3)\n",
    "    for (x,y,w,h) in faces:\n",
    "        img = cv2.rectangle(img,(x,y),(x+w,y+h),(255,0,0),2)\n",
    "        #roi_gray = gray[y:y+h, x:x+w]\n",
    "        #roi_color = img[y:y+h, x:x+w]'\n",
    "    \n",
    "    for (x,y,w,h) in faces_ext:\n",
    "        img = cv2.rectangle(img,(x,y),(x+w,y+h),(0,255,0),2)\n",
    "        #roi_gray = gray[y:y+h, x:x+w]\n",
    "        #roi_color = img[y:y+h, x:x+w]\n",
    "        \n",
    "    plt.imshow(img)\n",
    "    plt.show\n",
    "    \n",
    "    return faces\n",
    "images = find_jpg('CAT_final_2')"
   ]
  },
  {
   "cell_type": "code",
   "execution_count": 7,
   "id": "ae815c47",
   "metadata": {},
   "outputs": [
    {
     "ename": "KeyboardInterrupt",
     "evalue": "",
     "output_type": "error",
     "traceback": [
      "\u001b[0;31m---------------------------------------------------------------------------\u001b[0m",
      "\u001b[0;31mKeyboardInterrupt\u001b[0m                         Traceback (most recent call last)",
      "\u001b[0;32m<ipython-input-7-c494c3e6592b>\u001b[0m in \u001b[0;36m<module>\u001b[0;34m\u001b[0m\n\u001b[1;32m      1\u001b[0m \u001b[0mfaces_boxes\u001b[0m \u001b[0;34m=\u001b[0m \u001b[0;34m[\u001b[0m\u001b[0;34m]\u001b[0m\u001b[0;34m\u001b[0m\u001b[0;34m\u001b[0m\u001b[0m\n\u001b[1;32m      2\u001b[0m \u001b[0;32mfor\u001b[0m \u001b[0mimage\u001b[0m \u001b[0;32min\u001b[0m \u001b[0mimages\u001b[0m\u001b[0;34m:\u001b[0m\u001b[0;34m\u001b[0m\u001b[0;34m\u001b[0m\u001b[0m\n\u001b[0;32m----> 3\u001b[0;31m     \u001b[0mfaces_boxes\u001b[0m\u001b[0;34m.\u001b[0m\u001b[0mappend\u001b[0m\u001b[0;34m(\u001b[0m\u001b[0mhaar_values\u001b[0m\u001b[0;34m(\u001b[0m\u001b[0mimage\u001b[0m\u001b[0;34m)\u001b[0m\u001b[0;34m)\u001b[0m\u001b[0;34m\u001b[0m\u001b[0;34m\u001b[0m\u001b[0m\n\u001b[0m\u001b[1;32m      4\u001b[0m \u001b[0;34m\u001b[0m\u001b[0m\n\u001b[1;32m      5\u001b[0m \u001b[0mprint\u001b[0m\u001b[0;34m(\u001b[0m\u001b[0mfaces_boxes\u001b[0m\u001b[0;34m)\u001b[0m\u001b[0;34m\u001b[0m\u001b[0;34m\u001b[0m\u001b[0m\n",
      "\u001b[0;32m<ipython-input-5-8e187f21d668>\u001b[0m in \u001b[0;36mhaar_values\u001b[0;34m(file)\u001b[0m\n\u001b[1;32m     13\u001b[0m     \u001b[0mgray\u001b[0m \u001b[0;34m=\u001b[0m \u001b[0mcv2\u001b[0m\u001b[0;34m.\u001b[0m\u001b[0mequalizeHist\u001b[0m\u001b[0;34m(\u001b[0m\u001b[0mgray\u001b[0m\u001b[0;34m)\u001b[0m\u001b[0;34m\u001b[0m\u001b[0;34m\u001b[0m\u001b[0m\n\u001b[1;32m     14\u001b[0m \u001b[0;34m\u001b[0m\u001b[0m\n\u001b[0;32m---> 15\u001b[0;31m     \u001b[0mfaces\u001b[0m \u001b[0;34m=\u001b[0m \u001b[0mface_cascade\u001b[0m\u001b[0;34m.\u001b[0m\u001b[0mdetectMultiScale\u001b[0m\u001b[0;34m(\u001b[0m\u001b[0mimg\u001b[0m\u001b[0;34m,\u001b[0m \u001b[0;36m1.03\u001b[0m\u001b[0;34m,\u001b[0m \u001b[0;36m3\u001b[0m\u001b[0;34m)\u001b[0m\u001b[0;34m\u001b[0m\u001b[0;34m\u001b[0m\u001b[0m\n\u001b[0m\u001b[1;32m     16\u001b[0m     \u001b[0mfaces_ext\u001b[0m \u001b[0;34m=\u001b[0m \u001b[0mface_cascade_ext\u001b[0m\u001b[0;34m.\u001b[0m\u001b[0mdetectMultiScale\u001b[0m\u001b[0;34m(\u001b[0m\u001b[0mimg\u001b[0m\u001b[0;34m,\u001b[0m \u001b[0;36m1.05\u001b[0m\u001b[0;34m,\u001b[0m \u001b[0;36m3\u001b[0m\u001b[0;34m)\u001b[0m\u001b[0;34m\u001b[0m\u001b[0;34m\u001b[0m\u001b[0m\n\u001b[1;32m     17\u001b[0m     \u001b[0;32mfor\u001b[0m \u001b[0;34m(\u001b[0m\u001b[0mx\u001b[0m\u001b[0;34m,\u001b[0m\u001b[0my\u001b[0m\u001b[0;34m,\u001b[0m\u001b[0mw\u001b[0m\u001b[0;34m,\u001b[0m\u001b[0mh\u001b[0m\u001b[0;34m)\u001b[0m \u001b[0;32min\u001b[0m \u001b[0mfaces\u001b[0m\u001b[0;34m:\u001b[0m\u001b[0;34m\u001b[0m\u001b[0;34m\u001b[0m\u001b[0m\n",
      "\u001b[0;31mKeyboardInterrupt\u001b[0m: "
     ]
    },
    {
     "data": {
      "image/png": "[encoded data removed]",
      "text/plain": [
       "<Figure size 432x288 with 1 Axes>"
      ]
     },
     "metadata": {
      "needs_background": "light"
     },
     "output_type": "display_data"
    }
   ],
   "source": [
    "faces_boxes = []\n",
    "for image in images:\n",
    "    faces_boxes.append(haar_values(image))\n",
    "\n",
    "print(faces_boxes)"
   ]
  },
  {
   "cell_type": "code",
   "execution_count": null,
   "id": "d73783e3",
   "metadata": {
    "scrolled": true
   },
   "outputs": [],
   "source": [
    "box_values = []\n",
    "#format is XMid, YMid, XOffest, Y_offset\n",
    "for i in range(len(csv_values)):\n",
    "    temp_values = []\n",
    "    x_max = numpy.amax(csv_values[i][::2])\n",
    "    y_max = numpy.amax(csv_values[i][::-2])\n",
    "    x_min = numpy.amin(csv_values[i][::2])\n",
    "    y_min = numpy.amin(csv_values[i][::-2])\n",
    "    mid_x = (int(x_max) + int(x_min))/2\n",
    "    mid_y = (int(y_max) + int(y_min))/2\n",
    "    offset_x = (int(x_max) - int(x_min))/2\n",
    "    offset_y = (int(y_max) - int(y_min))/2\n",
    "    temp_values.append(mid_x)\n",
    "    temp_values.append(mid_y)\n",
    "    temp_values.append(offset_x)\n",
    "    temp_values.append(offset_y)\n",
    "    box_values.append(temp_values)\n"
   ]
  },
  {
   "cell_type": "code",
   "execution_count": null,
   "id": "eee5f211",
   "metadata": {},
   "outputs": [],
   "source": [
    "box_values=np.array(box_values, np.float)\n",
    "for i in range(len(box_values)):\n",
    "    write_path=new_data_x[i].replace('CAT_final_2', 'CAT_BOX_VALUES')\n",
    "    box_values[i].tofile(write_path, sep=',', format='%f' )"
   ]
  },
  {
   "cell_type": "code",
   "execution_count": null,
   "id": "c623a155",
   "metadata": {},
   "outputs": [],
   "source": [
    "box_values=np.array(box_values, np.float)\n",
    "mean = [127.57087126,  91.87871361,  47.05381614,  53.63404021]\n",
    "std = [33.91966711, 28.66692444, 23.03088972, 26.90988259]\n",
    "for i in range(len(box_values)):\n",
    "    box_values[i] = (box_values[i] - mean) / std\n",
    "    \n",
    "print(box_values.mean(0))\n",
    "print(box_values.std(0))\n",
    "box_values"
   ]
  },
  {
   "cell_type": "code",
   "execution_count": null,
   "id": "f476c209",
   "metadata": {
    "scrolled": false
   },
   "outputs": [],
   "source": [
    "import tensorflow as tf\n",
    "import os\n",
    "import numpy as np\n",
    "image_filename_dataset = tf.data.Dataset.list_files(\"/disk0/CAT_final_2/*.jpg\", shuffle=False)\n",
    "image_dataset = image_filename_dataset.map(lambda x: tf.io.decode_jpeg(tf.io.read_file(x)))\n",
    "\n",
    "csv_data = []\n",
    "for file in os.listdir(\"/disk0/CAT_BOX_VALUES/\"):\n",
    "    if \".csv\" in file:\n",
    "        csv_data.append(\"/disk0/CAT_BOX_VALUES/\" + file)\n",
    "csv_data.sort()\n",
    "\n",
    "csv_data = tf.data.TextLineDataset(csv_data)"
   ]
  },
  {
   "cell_type": "code",
   "execution_count": null,
   "id": "db8bb7bd",
   "metadata": {
    "scrolled": true
   },
   "outputs": [],
   "source": [
    "import numpy\n",
    "mean = [127.57087126,  91.87871361,  47.05381614,  53.63404021]\n",
    "std = [33.91966711, 28.66692444, 23.03088972, 26.90988259]\n",
    "def csv_preprocess(line):\n",
    "    fields = tf.io.decode_csv(line, [float()] * 4)\n",
    "    x = tf.stack(fields)\n",
    "    return (x-mean)/std\n",
    "\n",
    "csv_dataset = csv_data.map(csv_preprocess)\n",
    "\n",
    "#for line in csv_dataset:\n",
    "    #csv_dat_np.append(line)\n",
    "    \n",
    "#csv_dat_np = numpy.array(csv_dat_np)"
   ]
  },
  {
   "cell_type": "code",
   "execution_count": null,
   "id": "914d9be4",
   "metadata": {
    "scrolled": false
   },
   "outputs": [],
   "source": [
    "for i in csv_dataset.take(16):\n",
    "    print(i)"
   ]
  },
  {
   "cell_type": "code",
   "execution_count": null,
   "id": "f4c01f00",
   "metadata": {
    "scrolled": true
   },
   "outputs": [],
   "source": [
    "import cv2\n",
    "from matplotlib import pyplot as plt\n",
    "\n",
    "def image_preprocess(image):\n",
    "    image = tf.image.resize(image, (256,256))\n",
    "    #image = tf.image.rgb_to_grayscale(image)\n",
    "    return image/255.\n",
    "\n",
    "image_dataset = image_dataset.map(image_preprocess)"
   ]
  },
  {
   "cell_type": "code",
   "execution_count": null,
   "id": "2ba51bcd",
   "metadata": {},
   "outputs": [],
   "source": [
    "ds = tf.data.Dataset.zip((image_dataset, csv_dataset))\n",
    "ds = ds.batch(16).prefetch(1)"
   ]
  },
  {
   "cell_type": "code",
   "execution_count": null,
   "id": "c2aa44aa",
   "metadata": {},
   "outputs": [],
   "source": [
    "for line in ds.take(16):\n",
    "    print(line)"
   ]
  },
  {
   "cell_type": "code",
   "execution_count": null,
   "id": "85d70599",
   "metadata": {},
   "outputs": [],
   "source": [
    "DATASET_SIZE= 9997\n",
    "train_size = int(0.7 * DATASET_SIZE)\n",
    "val_size = int(0.15 * DATASET_SIZE)\n",
    "test_size = int(0.15 * DATASET_SIZE)\n",
    "\n",
    "full_dataset = ds\n",
    "train_dataset = full_dataset.take(train_size)\n",
    "test_dataset = full_dataset.skip(train_size)\n",
    "val_dataset = test_dataset.skip(test_size)\n",
    "test_dataset = test_dataset.take(test_size)"
   ]
  },
  {
   "cell_type": "code",
   "execution_count": null,
   "id": "cec41080",
   "metadata": {
    "scrolled": true
   },
   "outputs": [],
   "source": [
    "import os\n",
    "\n",
    "model_temp = tf.keras.applications.MobileNetV2(weights=None, input_shape=(256,256,3), classes=4)\n",
    "\n",
    "opt = tf.keras.optimizers.Nadam(learning_rate=3e-4)\n",
    "\n",
    "root_logdir = os.path.join(os.curdir, \"my_logs\")\n",
    "\n",
    "def get_run_logdir(model_name):\n",
    "    import time\n",
    "    run_id = time.strftime(\"run_%Y_%m_%d-%H_%M_%S\") + \" \" + model_name\n",
    "    return os.path.join(root_logdir, run_id)\n",
    "\n",
    "run_logdir = get_run_logdir(\"MobileNetV2\")\n",
    "callback = [tf.keras.callbacks.ReduceLROnPlateau(monitor='loss', patience=7), tf.keras.callbacks.TensorBoard(run_logdir)]\n",
    "model_temp.summary()"
   ]
  },
  {
   "cell_type": "code",
   "execution_count": null,
   "id": "75901aa9",
   "metadata": {},
   "outputs": [],
   "source": [
    "loss_tracker = tf.keras.metrics.Mean(name=\"loss\")\n",
    "mae_metric = tf.keras.metrics.MeanAbsoluteError(name=\"mae\")\n",
    "\n",
    "\n",
    "class CustomModel(tf.keras.Model):\n",
    "    def train_step(self, data):\n",
    "        x, y = data\n",
    "\n",
    "        with tf.GradientTape() as tape:\n",
    "            y_pred = self(x, training=True)  # Forward pass\n",
    "            # Compute our own loss\n",
    "            loss = keras.losses.Huber(y, y_pred[:-1])\n",
    "            loss.append()\n",
    "        # Compute gradients\n",
    "        trainable_vars = self.trainable_variables\n",
    "        gradients = tape.gradient(loss, trainable_vars)\n",
    "\n",
    "        # Update weights\n",
    "        self.optimizer.apply_gradients(zip(gradients, trainable_vars))\n",
    "\n",
    "        # Compute our own metrics\n",
    "        loss_tracker.update_state(loss)\n",
    "        mae_metric.update_state(y, y_pred)\n",
    "        return {\"loss\": loss_tracker.result(), \"mae\": mae_metric.result()}\n",
    "\n",
    "    @property\n",
    "    def metrics(self):\n",
    "        # We list our `Metric` objects here so that `reset_states()` can be\n",
    "        # called automatically at the start of each epoch\n",
    "        # or at the start of `evaluate()`.\n",
    "        # If you don't implement this property, you have to call\n",
    "        # `reset_states()` yourself at the time of your choosing.\n",
    "        return [loss_tracker, mae_metric]\n",
    "\n",
    "\n",
    "model = CustomModel(model_temp)"
   ]
  },
  {
   "cell_type": "code",
   "execution_count": null,
   "id": "73e5e6b5",
   "metadata": {
    "scrolled": true
   },
   "outputs": [],
   "source": [
    "model_temp.compile(loss=\"Huber\", optimizer=opt, metrics=['mse', 'mae', 'mape', 'accuracy'])\n",
    "history = model_temp.fit(train_dataset, batch_size=16, epochs=100, callbacks=[callback],\n",
    "                    validation_data=(val_dataset))"
   ]
  },
  {
   "cell_type": "code",
   "execution_count": null,
   "id": "bbd5d902",
   "metadata": {},
   "outputs": [],
   "source": [
    "#Custom Training loop to predict accuracy"
   ]
  },
  {
   "cell_type": "code",
   "execution_count": null,
   "id": "04263d80",
   "metadata": {},
   "outputs": [],
   "source": [
    "model = tf.keras.models.load_model(\"saved_model/Xception_ear_mouth\")"
   ]
  },
  {
   "cell_type": "code",
   "execution_count": null,
   "id": "61836e34",
   "metadata": {
    "scrolled": true
   },
   "outputs": [],
   "source": [
    "%load_ext tensorboard\n",
    "%tensorboard --logdir my_logs"
   ]
  },
  {
   "cell_type": "code",
   "execution_count": null,
   "id": "dd7ab92c",
   "metadata": {},
   "outputs": [],
   "source": [
    "from tensorflow.python.client import device_lib\n",
    "\n",
    "device_lib.list_local_devices()"
   ]
  },
  {
   "cell_type": "code",
   "execution_count": null,
   "id": "8b176881",
   "metadata": {
    "scrolled": true
   },
   "outputs": [],
   "source": [
    "score = model.evaluate(val_dataset)\n",
    "\n",
    "score[0]"
   ]
  },
  {
   "cell_type": "code",
   "execution_count": null,
   "id": "763f19b6",
   "metadata": {
    "scrolled": true
   },
   "outputs": [],
   "source": [
    "y_values = model.predict(image_dataset.take(16).batch(1))"
   ]
  },
  {
   "cell_type": "code",
   "execution_count": null,
   "id": "cc66f4cb",
   "metadata": {},
   "outputs": [],
   "source": [
    "mean = [127.81415,135.46324,84.69861,44.528057,170.24847,44.378716]\n",
    "std = [32.827805,36.04965,44.540665,40.30934,45.535557,39.316063]\n",
    "y_values = (y_values *  std)+ mean"
   ]
  },
  {
   "cell_type": "code",
   "execution_count": null,
   "id": "c65f7687",
   "metadata": {},
   "outputs": [],
   "source": [
    "import cv2\n",
    "import numpy as np\n",
    "from PIL import Image\n",
    "from matplotlib import pyplot as plt\n",
    "def write(image, csv_values):\n",
    "    img = image\n",
    "    for i in range(18):\n",
    "        if i %2 == 1:\n",
    "            csv_values[i] = csv_values[i] * (img.shape[1]/256)\n",
    "        else:\n",
    "            csv_values[i] = csv_values[i] * (img.shape[0]/256)\n",
    "    print(img.shape)\n",
    "    for i in range(9):\n",
    "        img = cv2.circle(img, (int((csv_values[i*2])), int(csv_values[(i*2) + 1])), 5, (255,0,0), -1)\n",
    "    plt.imshow(img)\n",
    "    plt.show()"
   ]
  },
  {
   "cell_type": "code",
   "execution_count": null,
   "id": "e411ffb8",
   "metadata": {},
   "outputs": [],
   "source": [
    "#format is XMid, YMid, XOffest, Y_offset\n",
    "import cv2\n",
    "import numpy as np\n",
    "from PIL import Image\n",
    "from matplotlib import pyplot as plt\n",
    "def write_box(image, csv_values):\n",
    "    x_first = int(csv_values[0] - csv_values[2])\n",
    "    y_first = int(csv_values[1] - csv_values[3])\n",
    "    x_last = int(csv_values[0] + csv_values[2])\n",
    "    y_last = int(csv_values[1] + csv_values[3])\n",
    "    cv2.rectangle(image, (x_first, y_first), (x_last, y_last), (255,0,0), 2)\n",
    "    plt.imshow(image)\n",
    "    plt.show()"
   ]
  },
  {
   "cell_type": "code",
   "execution_count": null,
   "id": "306b5c77",
   "metadata": {
    "scrolled": true
   },
   "outputs": [],
   "source": [
    "images=[]\n",
    "csv_values = []\n",
    "for i in image_dataset.take(16):\n",
    "    images.append(i.numpy())\n",
    "    \n",
    "for i in csv_dataset.take(16):\n",
    "    csv_values.append(i.numpy())\n",
    "\n",
    "csv_values = np.array(csv_values, float)\n",
    "csv_values = (csv_values * std) + mean\n",
    "csv_values"
   ]
  },
  {
   "cell_type": "code",
   "execution_count": null,
   "id": "418095ea",
   "metadata": {},
   "outputs": [],
   "source": [
    "for i in range(16):\n",
    "    write_box(images[i], csv_values[i])"
   ]
  },
  {
   "cell_type": "code",
   "execution_count": null,
   "id": "b1586af4",
   "metadata": {},
   "outputs": [],
   "source": [
    "!mkdir -p saved_model\n",
    "model.save('saved_model/Xception_ear_mouth')"
   ]
  },
  {
   "cell_type": "code",
   "execution_count": null,
   "id": "014a3d47",
   "metadata": {},
   "outputs": [],
   "source": [
    "import tensorflow as tf\n",
    "\n",
    "# Convert the model\n",
    "converter = tf.lite.TFLiteConverter.from_saved_model('saved_model/Xception_ear_mouth') # path to the SavedModel directory\n",
    "tflite_model = converter.convert()\n",
    "\n",
    "# Save the model.\n",
    "with open('Xception.tflite', 'wb') as f:\n",
    "  f.write(tflite_model)"
   ]
  },
  {
   "cell_type": "code",
   "execution_count": null,
   "id": "d1f86282",
   "metadata": {},
   "outputs": [],
   "source": [
    "import tensorflow as tf\n",
    "\n",
    "interpreter = tf.lite.Interpreter(model_path=\"model.tflite\")\n",
    "interpreter.allocate_tensors()\n",
    "\n",
    "# Print input shape and type\n",
    "inputs = interpreter.get_input_details()\n",
    "print('{} input(s):'.format(len(inputs)))\n",
    "for i in range(0, len(inputs)):\n",
    "    print('{} {}'.format(inputs[i]['shape'], inputs[i]['dtype']))\n",
    "\n",
    "# Print output shape and type\n",
    "outputs = interpreter.get_output_details()\n",
    "print('\\n{} output(s):'.format(len(outputs)))\n",
    "for i in range(0, len(outputs)):\n",
    "    print('{} {}'.format(outputs[i]['shape'], outputs[i]['dtype']))"
   ]
  },
  {
   "cell_type": "code",
   "execution_count": null,
   "id": "03157d02",
   "metadata": {
    "scrolled": false
   },
   "outputs": [],
   "source": []
  },
  {
   "cell_type": "code",
   "execution_count": null,
   "id": "c0e16e8e",
   "metadata": {},
   "outputs": [],
   "source": []
  }
 ],
 "metadata": {
  "kernelspec": {
   "display_name": "Python 3",
   "language": "python",
   "name": "python3"
  },
  "language_info": {
   "codemirror_mode": {
    "name": "ipython",
    "version": 3
   },
   "file_extension": ".py",
   "mimetype": "text/x-python",
   "name": "python",
   "nbconvert_exporter": "python",
   "pygments_lexer": "ipython3",
   "version": "3.8.10"
  }
 },
 "nbformat": 4,
 "nbformat_minor": 5
}
