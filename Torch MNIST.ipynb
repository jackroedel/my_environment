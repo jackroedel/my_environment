{
 "cells": [
  {
   "cell_type": "code",
   "execution_count": 1,
   "id": "0cb3c875",
   "metadata": {},
   "outputs": [],
   "source": [
    "import torch\n",
    "from torch import nn\n",
    "from torch.utils.data import DataLoader\n",
    "from torchvision import datasets\n",
    "from torchvision.transforms import ToTensor, Lambda, Compose\n",
    "import matplotlib.pyplot as plt"
   ]
  },
  {
   "cell_type": "code",
   "execution_count": 2,
   "id": "7f2ae5a5",
   "metadata": {
    "scrolled": true
   },
   "outputs": [],
   "source": [
    "training_data = datasets.FashionMNIST(\n",
    "    root=\"torch_data\",\n",
    "    train=True,\n",
    "    download=True,\n",
    "    transform=ToTensor(),\n",
    "    )\n",
    "\n",
    "test_data = datasets.FashionMNIST(\n",
    "    root=\"torch_data\",\n",
    "    train=False,\n",
    "    download=True,\n",
    "    transform=ToTensor(),\n",
    "    )\n",
    "\n",
    "test_size = int(0.5 * len(test_data))\n",
    "val_size = len(test_data) - test_size\n",
    "test_data, val_data = torch.utils.data.random_split(test_data, [test_size, val_size])"
   ]
  },
  {
   "cell_type": "code",
   "execution_count": 3,
   "id": "14a9de21",
   "metadata": {
    "scrolled": true
   },
   "outputs": [
    {
     "name": "stdout",
     "output_type": "stream",
     "text": [
      "Shape of X [B, C, H, W]:  torch.Size([64, 1, 28, 28])\n",
      "Shape of y:  torch.Size([64])\n"
     ]
    }
   ],
   "source": [
    "batch_size = 64\n",
    "\n",
    "train_dataloader = DataLoader(training_data, batch_size=batch_size)\n",
    "test_dataloader = DataLoader(test_data, batch_size=batch_size)\n",
    "val_dataloader = DataLoader(val_data, batch_size=batch_size)\n",
    "for X, y in val_dataloader:\n",
    "    print(\"Shape of X [B, C, H, W]: \", X.shape)\n",
    "    print(\"Shape of y: \", y.shape)\n",
    "    break"
   ]
  },
  {
   "cell_type": "code",
   "execution_count": 4,
   "id": "5abb4815",
   "metadata": {
    "scrolled": true
   },
   "outputs": [
    {
     "name": "stdout",
     "output_type": "stream",
     "text": [
      "using cuda\n",
      "NeuralNetwork(\n",
      "  (flatten): Flatten(start_dim=1, end_dim=-1)\n",
      "  (linear_relu_stack): Sequential(\n",
      "    (0): Linear(in_features=784, out_features=512, bias=True)\n",
      "    (1): ReLU()\n",
      "    (2): Linear(in_features=512, out_features=512, bias=True)\n",
      "    (3): ReLU()\n",
      "    (4): Linear(in_features=512, out_features=10, bias=True)\n",
      "  )\n",
      ")\n"
     ]
    }
   ],
   "source": [
    "device = \"cuda\" if torch.cuda.is_available() else \"cpu\"\n",
    "print(f\"using {device}\")\n",
    "\n",
    "class NeuralNetwork(nn.Module):\n",
    "    def __init__(self):\n",
    "        super(NeuralNetwork, self).__init__()\n",
    "        self.flatten = nn.Flatten()\n",
    "        self.linear_relu_stack = nn.Sequential(\n",
    "            nn.Linear(28*28, 512),\n",
    "            nn.ReLU(),\n",
    "            nn.Linear(512, 512),\n",
    "            nn.ReLU(),\n",
    "            nn.Linear(512, 10)\n",
    "        )\n",
    "    \n",
    "    def forward(self, x):\n",
    "        x = self.flatten(x)\n",
    "        logits = self.linear_relu_stack(x)\n",
    "        return logits\n",
    "\n",
    "model = NeuralNetwork().to(device)\n",
    "print(model)"
   ]
  },
  {
   "cell_type": "code",
   "execution_count": 5,
   "id": "d2465bf5",
   "metadata": {},
   "outputs": [],
   "source": [
    "loss_fn = nn.CrossEntropyLoss()\n",
    "optimizer = torch.optim.Adam(model.parameters())"
   ]
  },
  {
   "cell_type": "code",
   "execution_count": 6,
   "id": "f53c62aa",
   "metadata": {},
   "outputs": [],
   "source": [
    "def train(dataloader, model, loss_fn, optimizer):\n",
    "    size = len(dataloader.dataset)\n",
    "    model.train()\n",
    "    for batch, (X, y) in enumerate(dataloader):\n",
    "        X, y = X.to(device), y.to(device)\n",
    "        \n",
    "        pred = model(X)\n",
    "        loss = loss_fn(pred, y)\n",
    "        \n",
    "        optimizer.zero_grad()\n",
    "        loss.backward()\n",
    "        optimizer.step()\n",
    "        \n",
    "        if batch % 100 == 0:\n",
    "            loss, current = loss.item(), batch * len(X)\n",
    "            print(f\"loss: {loss:>7f} [{current:>5d}/{size:>5d}]\")"
   ]
  },
  {
   "cell_type": "code",
   "execution_count": 9,
   "id": "dc753f79",
   "metadata": {},
   "outputs": [],
   "source": [
    "def test(dataloader, model, loss_fn):\n",
    "    size = len(dataloader.dataset)\n",
    "    num_batches = len(dataloader)\n",
    "    model.eval()\n",
    "    test_loss, correct = 0, 0\n",
    "    with torch.no_grad():\n",
    "        for X, y in dataloader:\n",
    "            X, y = X.to(device), y.to(device)\n",
    "            pred = model(X)\n",
    "            test_loss += loss_fn(pred, y).item()\n",
    "            correct += (pred.argmax(1) == y).type(torch.float).sum().item()\n",
    "        test_loss /= num_batches\n",
    "        correct /= size\n",
    "    print(f\"Test Error: \\n Accuracy {(100*correct):>0.1f}%, Avg loss: {test_loss:>8f} \\n\")"
   ]
  },
  {
   "cell_type": "code",
   "execution_count": 10,
   "id": "5ff7743f",
   "metadata": {
    "scrolled": true
   },
   "outputs": [
    {
     "name": "stdout",
     "output_type": "stream",
     "text": [
      "Epoch 1\n",
      "-------------------------------\n",
      "loss: 0.269379 [    0/60000]\n",
      "loss: 0.357099 [ 6400/60000]\n",
      "loss: 0.266227 [12800/60000]\n",
      "loss: 0.384707 [19200/60000]\n",
      "loss: 0.454057 [25600/60000]\n",
      "loss: 0.402668 [32000/60000]\n",
      "loss: 0.326905 [38400/60000]\n",
      "loss: 0.461429 [44800/60000]\n",
      "loss: 0.401715 [51200/60000]\n",
      "loss: 0.443293 [57600/60000]\n",
      "Test Error: \n",
      " Accuracy 85.6%, Avg loss: 0.394080 \n",
      "\n",
      "Epoch 2\n",
      "-------------------------------\n",
      "loss: 0.222263 [    0/60000]\n",
      "loss: 0.320844 [ 6400/60000]\n",
      "loss: 0.229753 [12800/60000]\n",
      "loss: 0.326607 [19200/60000]\n",
      "loss: 0.366031 [25600/60000]\n",
      "loss: 0.369627 [32000/60000]\n",
      "loss: 0.291078 [38400/60000]\n",
      "loss: 0.456798 [44800/60000]\n",
      "loss: 0.331737 [51200/60000]\n",
      "loss: 0.371052 [57600/60000]\n",
      "Test Error: \n",
      " Accuracy 85.6%, Avg loss: 0.383425 \n",
      "\n",
      "Epoch 3\n",
      "-------------------------------\n",
      "loss: 0.223342 [    0/60000]\n",
      "loss: 0.309085 [ 6400/60000]\n",
      "loss: 0.210466 [12800/60000]\n",
      "loss: 0.280805 [19200/60000]\n",
      "loss: 0.400015 [25600/60000]\n",
      "loss: 0.329630 [32000/60000]\n",
      "loss: 0.271408 [38400/60000]\n",
      "loss: 0.385041 [44800/60000]\n",
      "loss: 0.284306 [51200/60000]\n",
      "loss: 0.320145 [57600/60000]\n",
      "Test Error: \n",
      " Accuracy 85.8%, Avg loss: 0.394701 \n",
      "\n",
      "Epoch 4\n",
      "-------------------------------\n",
      "loss: 0.254804 [    0/60000]\n",
      "loss: 0.252868 [ 6400/60000]\n",
      "loss: 0.201485 [12800/60000]\n",
      "loss: 0.238470 [19200/60000]\n",
      "loss: 0.311554 [25600/60000]\n",
      "loss: 0.307595 [32000/60000]\n",
      "loss: 0.248993 [38400/60000]\n",
      "loss: 0.357849 [44800/60000]\n",
      "loss: 0.248703 [51200/60000]\n",
      "loss: 0.295786 [57600/60000]\n",
      "Test Error: \n",
      " Accuracy 86.9%, Avg loss: 0.365764 \n",
      "\n",
      "Epoch 5\n",
      "-------------------------------\n",
      "loss: 0.219118 [    0/60000]\n",
      "loss: 0.198203 [ 6400/60000]\n",
      "loss: 0.210964 [12800/60000]\n",
      "loss: 0.215620 [19200/60000]\n",
      "loss: 0.293881 [25600/60000]\n",
      "loss: 0.274683 [32000/60000]\n",
      "loss: 0.234001 [38400/60000]\n",
      "loss: 0.286655 [44800/60000]\n",
      "loss: 0.251961 [51200/60000]\n",
      "loss: 0.292489 [57600/60000]\n",
      "Test Error: \n",
      " Accuracy 87.6%, Avg loss: 0.353840 \n",
      "\n",
      "Done!\n"
     ]
    }
   ],
   "source": [
    "epochs = 5\n",
    "for t in range(epochs):\n",
    "    print(f\"Epoch {t+1}\\n-------------------------------\")\n",
    "    train(train_dataloader, model, loss_fn, optimizer)\n",
    "    test(test_dataloader, model, loss_fn)\n",
    "print(\"Done!\")"
   ]
  },
  {
   "cell_type": "code",
   "execution_count": 14,
   "id": "44d9202a",
   "metadata": {
    "scrolled": true
   },
   "outputs": [
    {
     "name": "stdout",
     "output_type": "stream",
     "text": [
      "Predicted: \"Sneaker\", Actual: \"Sneaker\"\n"
     ]
    }
   ],
   "source": [
    "classes = [\n",
    "    \"T-shirt/top\",\n",
    "    \"Trouser\",\n",
    "    \"Pullover\",\n",
    "    \"Dress\",\n",
    "    \"Coat\",\n",
    "    \"Sandal\",\n",
    "    \"Shirt\",\n",
    "    \"Sneaker\",\n",
    "    \"Bag\",\n",
    "    \"Ankle boot\",\n",
    "]\n",
    "\n",
    "model.eval()\n",
    "x, y = test_data[10][0], test_data[10][1]\n",
    "with torch.no_grad():\n",
    "    pred = model(x.to(device))\n",
    "    predicted, actual = classes[pred[0].argmax(0)], classes[y]\n",
    "    print(f'Predicted: \"{predicted}\", Actual: \"{actual}\"')"
   ]
  },
  {
   "cell_type": "code",
   "execution_count": 16,
   "id": "2d78cde1",
   "metadata": {},
   "outputs": [
    {
     "data": {
      "text/plain": [
       "tensor([[1, 2],\n",
       "        [3, 4]])"
      ]
     },
     "execution_count": 16,
     "metadata": {},
     "output_type": "execute_result"
    }
   ],
   "source": [
    "data = [[1, 2],[3, 4]]\n",
    "x_data = torch.tensor(data)"
   ]
  },
  {
   "cell_type": "code",
   "execution_count": 22,
   "id": "953d5e02",
   "metadata": {},
   "outputs": [
    {
     "name": "stdout",
     "output_type": "stream",
     "text": [
      "Ones Tensor: \n",
      " tensor([[1, 1],\n",
      "        [1, 1]]) \n",
      "\n",
      "Random Tensor: \n",
      " tensor([[0.3716, 0.2955],\n",
      "        [0.1582, 0.8651]]) \n",
      "\n"
     ]
    }
   ],
   "source": [
    "x_ones = torch.ones_like(x_data) # retains the properties of x_data\n",
    "print(f\"Ones Tensor: \\n {x_ones} \\n\")\n",
    "\n",
    "x_rand = torch.rand_like(x_data, dtype=torch.float) # overrides the datatype of x_data\n",
    "print(f\"Random Tensor: \\n {x_rand} \\n\")"
   ]
  },
  {
   "cell_type": "code",
   "execution_count": 28,
   "id": "b6be7328",
   "metadata": {},
   "outputs": [
    {
     "data": {
      "text/plain": [
       "device(type='cuda', index=0)"
      ]
     },
     "execution_count": 28,
     "metadata": {},
     "output_type": "execute_result"
    }
   ],
   "source": [
    "plt.imshow(data, cmap='gray')\n",
    "\n",
    "# Display the plot\n",
    "plt.show()"
   ]
  },
  {
   "cell_type": "code",
   "execution_count": null,
   "id": "7112b804",
   "metadata": {},
   "outputs": [],
   "source": []
  }
 ],
 "metadata": {
  "kernelspec": {
   "display_name": "Python 3 (ipykernel)",
   "language": "python",
   "name": "python3"
  },
  "language_info": {
   "codemirror_mode": {
    "name": "ipython",
    "version": 3
   },
   "file_extension": ".py",
   "mimetype": "text/x-python",
   "name": "python",
   "nbconvert_exporter": "python",
   "pygments_lexer": "ipython3",
   "version": "3.8.10"
  }
 },
 "nbformat": 4,
 "nbformat_minor": 5
}
