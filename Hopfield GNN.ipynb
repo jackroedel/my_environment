{
 "cells": [
  {
   "cell_type": "code",
   "execution_count": 8,
   "id": "27bb1d7e",
   "metadata": {},
   "outputs": [],
   "source": [
    "import tensorflow as tf\n",
    "import sklearn\n",
    "import numpy as np"
   ]
  },
  {
   "cell_type": "code",
   "execution_count": 7,
   "id": "b28a6cd5",
   "metadata": {},
   "outputs": [
    {
     "name": "stdout",
     "output_type": "stream",
     "text": [
      "tensor([[0.9219, 0.2478, 0.9535],\n",
      "        [0.3898, 0.3195, 0.6729],\n",
      "        [0.9372, 0.3392, 0.4062],\n",
      "        [0.9742, 0.2245, 0.3616],\n",
      "        [0.6986, 0.9178, 0.3171]])\n"
     ]
    }
   ],
   "source": [
    "class HopfieldNeuron:\n",
    "    "
   ]
  },
  {
   "cell_type": "code",
   "execution_count": null,
   "id": "ba562fe9",
   "metadata": {},
   "outputs": [],
   "source": []
  }
 ],
 "metadata": {
  "kernelspec": {
   "display_name": "Python 3 (ipykernel)",
   "language": "python",
   "name": "python3"
  },
  "language_info": {
   "codemirror_mode": {
    "name": "ipython",
    "version": 3
   },
   "file_extension": ".py",
   "mimetype": "text/x-python",
   "name": "python",
   "nbconvert_exporter": "python",
   "pygments_lexer": "ipython3",
   "version": "3.8.10"
  }
 },
 "nbformat": 4,
 "nbformat_minor": 5
}
