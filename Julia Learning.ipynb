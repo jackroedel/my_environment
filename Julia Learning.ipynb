{
 "cells": [
  {
   "cell_type": "code",
   "execution_count": 1,
   "id": "6fd2dc1a",
   "metadata": {},
   "outputs": [
    {
     "data": {
      "text/plain": [
       "5×3 Matrix{Float64}:\n",
       " 0.385938  0.458531  0.153475\n",
       " 0.902352  0.305625  0.287409\n",
       " 0.657867  0.643018  0.908441\n",
       " 0.718649  0.675157  0.393322\n",
       " 0.142124  0.649517  0.91485"
      ]
     },
     "execution_count": 1,
     "metadata": {},
     "output_type": "execute_result"
    }
   ],
   "source": [
    "rand(5, 3)"
   ]
  },
  {
   "cell_type": "code",
   "execution_count": 3,
   "id": "dfca5394",
   "metadata": {},
   "outputs": [],
   "source": [
    "using Flux\n",
    "using CUDA"
   ]
  },
  {
   "cell_type": "code",
   "execution_count": 14,
   "id": "c701dd6f",
   "metadata": {},
   "outputs": [
    {
     "data": {
      "text/plain": [
       "'.': ASCII/Unicode U+002E (category Po: Punctuation, other)"
      ]
     },
     "execution_count": 14,
     "metadata": {},
     "output_type": "execute_result"
    }
   ],
   "source": [
    "str = \"Hello, world.\\n\"\n",
    "str[end - 1]"
   ]
  },
  {
   "cell_type": "code",
   "execution_count": 14,
   "id": "aef2b411",
   "metadata": {},
   "outputs": [
    {
     "data": {
      "text/plain": [
       "1"
      ]
     },
     "execution_count": 14,
     "metadata": {},
     "output_type": "execute_result"
    }
   ],
   "source": [
    "fib(n::Integer) = n ≤ 1 ? one(n) : fib(n-1) + fib(n-2)\n",
    "fib(0)"
   ]
  },
  {
   "cell_type": "code",
   "execution_count": 21,
   "id": "77f5c21f",
   "metadata": {},
   "outputs": [
    {
     "data": {
      "text/plain": [
       "my_fib (generic function with 2 methods)"
      ]
     },
     "execution_count": 21,
     "metadata": {},
     "output_type": "execute_result"
    }
   ],
   "source": [
    "function fib(n::Int)::Int\n",
    "    n<0 && error(\"n must be non negative\")\n",
    "    n == 0 && return 0\n",
    "    n == 1 && return 1\n",
    "    fib(n-1) + fib(n-2)\n",
    "    end\n",
    "\n",
    "function my_fib(n::Int)::Int32\n",
    "    if n <= 1\n",
    "        return one(n)\n",
    "    end\n",
    "    return fib(n-1) + fib(n-2)\n",
    "    end"
   ]
  },
  {
   "cell_type": "code",
   "execution_count": 22,
   "id": "a6291b8e",
   "metadata": {},
   "outputs": [
    {
     "name": "stdout",
     "output_type": "stream",
     "text": [
      "  3.741 ms (0 allocations: 0 bytes)\n"
     ]
    },
    {
     "data": {
      "text/plain": [
       "832040"
      ]
     },
     "execution_count": 22,
     "metadata": {},
     "output_type": "execute_result"
    }
   ],
   "source": [
    "using BenchmarkTools\n",
    "\n",
    "@btime fib(30)"
   ]
  },
  {
   "cell_type": "code",
   "execution_count": 23,
   "id": "8e3f71b8",
   "metadata": {},
   "outputs": [
    {
     "name": "stdout",
     "output_type": "stream",
     "text": [
      "  3.741 ms (0 allocations: 0 bytes)\n"
     ]
    },
    {
     "data": {
      "text/plain": [
       "832040"
      ]
     },
     "execution_count": 23,
     "metadata": {},
     "output_type": "execute_result"
    }
   ],
   "source": [
    "@btime my_fib(30)"
   ]
  },
  {
   "cell_type": "code",
   "execution_count": 43,
   "id": "63b1fe3d",
   "metadata": {},
   "outputs": [
    {
     "data": {
      "text/plain": [
       "actual (generic function with 2 methods)"
      ]
     },
     "execution_count": 43,
     "metadata": {},
     "output_type": "execute_result"
    }
   ],
   "source": [
    "using Flux\n",
    "\n",
    "actual(x::Int) = 4x+2"
   ]
  },
  {
   "cell_type": "code",
   "execution_count": 41,
   "id": "d01cc304",
   "metadata": {},
   "outputs": [
    {
     "data": {
      "text/plain": [
       "([2 6 … 18 22], [26 30 … 38 42])"
      ]
     },
     "execution_count": 41,
     "metadata": {},
     "output_type": "execute_result"
    }
   ],
   "source": [
    "x_train, x_test = hcat(0:5...), hcat(6:10...)\n",
    "y_train, y_test = actual.(x_train), actual.(x_test)"
   ]
  },
  {
   "cell_type": "code",
   "execution_count": 45,
   "id": "849a0993",
   "metadata": {},
   "outputs": [
    {
     "data": {
      "text/plain": [
       "Dense(1, 1)         \u001b[90m# 2 parameters\u001b[39m"
      ]
     },
     "execution_count": 45,
     "metadata": {},
     "output_type": "execute_result"
    }
   ],
   "source": [
    "model = Dense(1, 1)"
   ]
  },
  {
   "cell_type": "code",
   "execution_count": 46,
   "id": "003aca95",
   "metadata": {},
   "outputs": [
    {
     "data": {
      "text/plain": [
       "1×1 Matrix{Float32}:\n",
       " -1.7099714"
      ]
     },
     "execution_count": 46,
     "metadata": {},
     "output_type": "execute_result"
    }
   ],
   "source": [
    "model.weight"
   ]
  },
  {
   "cell_type": "code",
   "execution_count": 47,
   "id": "95fcb685",
   "metadata": {},
   "outputs": [
    {
     "data": {
      "text/plain": [
       "1-element Vector{Float32}:\n",
       " 0.0"
      ]
     },
     "execution_count": 47,
     "metadata": {},
     "output_type": "execute_result"
    }
   ],
   "source": [
    "model.bias"
   ]
  },
  {
   "cell_type": "code",
   "execution_count": 48,
   "id": "b10aefdc",
   "metadata": {},
   "outputs": [
    {
     "data": {
      "text/plain": [
       "Dense(1, 1)         \u001b[90m# 2 parameters\u001b[39m"
      ]
     },
     "execution_count": 48,
     "metadata": {},
     "output_type": "execute_result"
    }
   ],
   "source": [
    "predict = Dense(1, 1)"
   ]
  },
  {
   "cell_type": "code",
   "execution_count": 49,
   "id": "355ed544",
   "metadata": {},
   "outputs": [
    {
     "data": {
      "text/plain": [
       "1×6 Matrix{Float32}:\n",
       " 0.0  0.595555  1.19111  1.78666  2.38222  2.97777"
      ]
     },
     "execution_count": 49,
     "metadata": {},
     "output_type": "execute_result"
    }
   ],
   "source": [
    "predict(x_train)"
   ]
  },
  {
   "cell_type": "code",
   "execution_count": 52,
   "id": "501d37c0",
   "metadata": {},
   "outputs": [
    {
     "data": {
      "text/plain": [
       "loss (generic function with 1 method)"
      ]
     },
     "execution_count": 52,
     "metadata": {},
     "output_type": "execute_result"
    }
   ],
   "source": [
    "loss(y_pred, y) = Flux.Losses.mse(predict(y_pred), y)"
   ]
  },
  {
   "cell_type": "code",
   "execution_count": 53,
   "id": "c022175b",
   "metadata": {},
   "outputs": [
    {
     "data": {
      "text/plain": [
       "144.28838f0"
      ]
     },
     "execution_count": 53,
     "metadata": {},
     "output_type": "execute_result"
    }
   ],
   "source": [
    "loss(x_train, y_train)"
   ]
  },
  {
   "cell_type": "code",
   "execution_count": 54,
   "id": "2092ac11",
   "metadata": {},
   "outputs": [
    {
     "data": {
      "text/plain": [
       "Descent(0.1)"
      ]
     },
     "execution_count": 54,
     "metadata": {},
     "output_type": "execute_result"
    }
   ],
   "source": [
    "using Flux: train!\n",
    "\n",
    "opt = Descent()"
   ]
  },
  {
   "cell_type": "code",
   "execution_count": 56,
   "id": "0be8deba",
   "metadata": {},
   "outputs": [
    {
     "data": {
      "text/plain": [
       "1-element Vector{Tuple{Matrix{Int64}, Matrix{Int64}}}:\n",
       " ([0 1 … 4 5], [2 6 … 18 22])"
      ]
     },
     "execution_count": 56,
     "metadata": {},
     "output_type": "execute_result"
    }
   ],
   "source": [
    "data = [(x_train, y_train)]"
   ]
  },
  {
   "cell_type": "code",
   "execution_count": 57,
   "id": "e177fa24",
   "metadata": {},
   "outputs": [
    {
     "data": {
      "text/plain": [
       "1×1 Matrix{Float32}:\n",
       " 0.59555495"
      ]
     },
     "execution_count": 57,
     "metadata": {},
     "output_type": "execute_result"
    }
   ],
   "source": [
    "predict.weight"
   ]
  },
  {
   "cell_type": "code",
   "execution_count": 58,
   "id": "862d7ec8",
   "metadata": {},
   "outputs": [
    {
     "data": {
      "text/plain": [
       "1-element Vector{Float32}:\n",
       " 0.0"
      ]
     },
     "execution_count": 58,
     "metadata": {},
     "output_type": "execute_result"
    }
   ],
   "source": [
    "predict.bias"
   ]
  },
  {
   "cell_type": "code",
   "execution_count": 60,
   "id": "f395b104",
   "metadata": {},
   "outputs": [
    {
     "data": {
      "text/plain": [
       "Params([Float32[0.59555495;;], Float32[0.0]])"
      ]
     },
     "execution_count": 60,
     "metadata": {},
     "output_type": "execute_result"
    }
   ],
   "source": [
    "parameters = Flux.params(predict)"
   ]
  },
  {
   "cell_type": "code",
   "execution_count": 61,
   "id": "9b33e2e8",
   "metadata": {},
   "outputs": [
    {
     "data": {
      "text/plain": [
       "(true, true)"
      ]
     },
     "execution_count": 61,
     "metadata": {},
     "output_type": "execute_result"
    }
   ],
   "source": [
    "predict.weight in parameters, predict.bias in parameters"
   ]
  },
  {
   "cell_type": "code",
   "execution_count": 62,
   "id": "151f9258",
   "metadata": {},
   "outputs": [],
   "source": [
    "train!(loss, parameters, data, opt)"
   ]
  },
  {
   "cell_type": "code",
   "execution_count": 63,
   "id": "277be2bb",
   "metadata": {},
   "outputs": [
    {
     "data": {
      "text/plain": [
       "136.93114f0"
      ]
     },
     "execution_count": 63,
     "metadata": {},
     "output_type": "execute_result"
    }
   ],
   "source": [
    "loss(x_train, y_train)"
   ]
  },
  {
   "cell_type": "code",
   "execution_count": null,
   "id": "914e7d96",
   "metadata": {},
   "outputs": [],
   "source": [
    "using CUDA\n",
    "\n",
    "W = cu(rand(2, 5)) # a 2×5 CuArray\n",
    "b = cu(rand(2))\n",
    "\n",
    "predict(x) = W*x .+ b\n",
    "loss(x, y) = sum((predict(x) .- y).^2)\n",
    "\n",
    "x, y = cu(rand(5)), cu(rand(2)) # Dummy data\n",
    "loss(x, y) # ~ 3"
   ]
  },
  {
   "cell_type": "code",
   "execution_count": null,
   "id": "2c79a3b9",
   "metadata": {},
   "outputs": [],
   "source": []
  }
 ],
 "metadata": {
  "kernelspec": {
   "display_name": "Julia 1.7.1",
   "language": "julia",
   "name": "julia-1.7"
  },
  "language_info": {
   "file_extension": ".jl",
   "mimetype": "application/julia",
   "name": "julia",
   "version": "1.7.1"
  }
 },
 "nbformat": 4,
 "nbformat_minor": 5
}
