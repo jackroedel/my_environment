{
 "cells": [
  {
   "cell_type": "code",
   "execution_count": 1,
   "id": "587ab108",
   "metadata": {},
   "outputs": [],
   "source": [
    "import tensorflow as tf\n",
    "\n",
    "#Block of layers with bool for if grad = true\n",
    "#Grad = not true, no flatten and FCL\n",
    "\n",
    "class GroupedLayer(tf.keras.layers.Layer):\n",
    "    def __init__(self, filters, kernel_size, final_output):\n",
    "        super(GroupedLayer, self).__init__()\n",
    "        self.hidden_1 = tf.keras.layers.Conv2D(filters, kernel_size, strides=(1,1), padding=\"same\", activation='ReLU')\n",
    "        self.hidden_2 = tf.keras.layers.Conv2D(filters, kernel_size, strides=(1,1), padding=\"same\", activation='ReLU')\n",
    "        self.hidden_output = tf.keras.layers.Dense(units=final_output, activation='ReLU')\n",
    "        \n",
    "    def call(self, inputs):\n",
    "        inputs = self.hidden_1(inputs)\n",
    "        inputs = self.hidden_2(inputs)\n",
    "        return inputs\n",
    "    \n",
    "    def call_output(self, inputs):\n",
    "          return self.hidden_output(tf.keras.layers.Flatten()(self.call(inputs)))\n",
    "\n",
    "class GroupedLayerInput(tf.keras.layers.Layer):\n",
    "    def __init__(self, filters, kernel_size, final_output):\n",
    "        super(GroupedLayerInput, self).__init__()\n",
    "        self.input_block = tf.keras.Sequential(\n",
    "            [\n",
    "                tf.keras.Input(shape=(32, 32, 3)),\n",
    "                tf.keras.layers.Conv2D(64, (3, 3), strides=(2, 2), padding=\"same\", activation=\"ReLU\"),\n",
    "                tf.keras.layers.MaxPooling2D(pool_size=2),\n",
    "\n",
    "            ],\n",
    "            name=\"input\",\n",
    "        )\n",
    "        self.hidden = GroupedLayer(64, (3,3), 6)\n",
    "        \n",
    "    def call(self, inputs):\n",
    "        inputs = self.input_block(inputs)\n",
    "        inputs = self.hidden.call(inputs)\n",
    "        return inputs\n",
    "    \n",
    "    def call_output(self, inputs):\n",
    "          return self.hidden(tf.keras.layers.Flatten()(self.call(inputs)))\n",
    "\n",
    "grouped_block = GroupedLayer(64,3,10)"
   ]
  },
  {
   "cell_type": "code",
   "execution_count": 11,
   "id": "b9e10285",
   "metadata": {},
   "outputs": [],
   "source": [
    "loss_tracker = tf.keras.metrics.Mean(name=\"loss\")\n",
    "class ForcedLearnerClass(tf.keras.Model):\n",
    "    \n",
    "    def __init__(self, output_size):\n",
    "        super(ForcedLearnerClass, self).__init__()\n",
    "        self.input_block = GroupedLayerInput(filters=16,kernel_size=(3,3), final_output=output_size)\n",
    "        \n",
    "        self.training_block_1 = [GroupedLayer(16, (3,3), final_output=output_size) for _ in range(3)]\n",
    "        self.training_block_2 = [GroupedLayer(32, (3,3), final_output=output_size) for _ in range(3)]\n",
    "        self.training_block_3 = [GroupedLayer(64, (3,3), final_output=output_size) for _ in range(3)]\n",
    "    \n",
    "    def compile(self, optimizer, loss_fn):\n",
    "        super(ForcedLearnerClass, self).compile()\n",
    "        self.optimizer = optimizer\n",
    "        self.loss_fn = loss_fn\n",
    "        \n",
    "    def call(self, x):\n",
    "        x = self.input_block(x)\n",
    "        for i in range(3):\n",
    "            x = self.training_block_1[i].call(x)\n",
    "        for i in range(3):\n",
    "            x = self.training_block_2[i].call(x)\n",
    "        for i in range(3):\n",
    "            x = self.training_block_3[i].call(x)\n",
    "        return x\n",
    "        \n",
    "    def train_step(self, data):\n",
    "        pred_output, y = data\n",
    "        \n",
    "        with tf.GradientTape(persistent=True) as tape:\n",
    "            pred_output_back_input = self.input_block.call_output(pred_output)\n",
    "            pred_output = self.input_block.call(pred_output)\n",
    "            \n",
    "            pred_output_back_1 = []\n",
    "            for i in range(3):\n",
    "                pred_output_back_1.append(self.training_block_1[i].call_output(pred_output))\n",
    "                pred_output = self.training_block_1[i].call(pred_output)\n",
    "                \n",
    "            pred_output_back_2 = []\n",
    "            for i in range(3):\n",
    "                pred_output_back_2.append(self.training_block_2[i].call_output(pred_output))\n",
    "                pred_output = self.training_block_2[i].call(pred_output)\n",
    "                \n",
    "            pred_output_back_3 = []\n",
    "            for i in range(3):\n",
    "                pred_output_back_3.append(self.training_block_3[i].call_output(pred_output))\n",
    "                pred_output = self.training_block_3[i].call(pred_output)\n",
    "                \n",
    "            loss_input = self.loss_fn(y, pred_output_back_input)\n",
    "            loss_1 = []\n",
    "            loss_2 = []\n",
    "            loss_3 = []\n",
    "            \n",
    "            for i in range(3):\n",
    "                loss_1[i].append(self.loss_fn(y, pred_output_back_1[i]))\n",
    "                loss_2[i].append(self.loss_fn(y, pred_output_back_2[i]))\n",
    "                loss_3[i].append(self.loss_fn(y, pred_output_back_3[i]))\n",
    "                \n",
    "        #mae_metric = keras.metrics.MeanAbsoluteError(name=\"mae\")\n",
    "        gradients_input = tape.gradient(loss_input, self.input_block.trainable_variables)\n",
    "        gradients_1 = []\n",
    "        gradients_2 = []\n",
    "        gradients_3 = []\n",
    "        \n",
    "        for i in range(3):\n",
    "            gradients_1.append(tape.gradient(loss_1[i], self.training_block_1[i].trainable_variables))\n",
    "            gradients_2.append(tape.gradient(loss_2[i], self.training_block_2[i].trainable_variables))\n",
    "            gradients_3.append(tape.gradient(loss_3[i], self.training_block_3[i].trainable_variables))\n",
    "        \n",
    "        #Update weights\n",
    "        self.optimizer.apply_gradients(zip(gradients_input, self.input_block.trainable_variables))\n",
    "        for i in range(3):\n",
    "            self.optimizer.apply_gradients(zip(gradients_1[i], self.training_block_1[i].trainable_variables))\n",
    "            self.optimizer.apply_gradients(zip(gradients_2[i], self.training_block_2[i].trainable_variables))\n",
    "            self.optimizer.apply_gradients(zip(gradients_3[i], self.training_block_3[i].trainable_variables))\n",
    "         \n",
    "        #Compute our own metrics\n",
    "        loss_tracker.update_state(loss_4)\n",
    "        #mae_metric.update_state(y, y_pred)\n",
    "        #\"mae\": mae_metric.result()\n",
    "        return {\"loss\": loss_tracker.result()}"
   ]
  },
  {
   "cell_type": "code",
   "execution_count": 3,
   "id": "6dce5f4a",
   "metadata": {},
   "outputs": [
    {
     "name": "stdout",
     "output_type": "stream",
     "text": [
      "Model: \"sequential\"\n",
      "_________________________________________________________________\n",
      " Layer (type)                Output Shape              Param #   \n",
      "=================================================================\n",
      " grouped_layer_1 (GroupedLay  (16, 224, 224, 64)       17563776  \n",
      " er)                                                             \n",
      "                                                                 \n",
      " grouped_layer_2 (GroupedLay  (16, 224, 224, 64)       33554560  \n",
      " er)                                                             \n",
      "                                                                 \n",
      "=================================================================\n",
      "Total params: 51,118,336\n",
      "Trainable params: 51,118,336\n",
      "Non-trainable params: 0\n",
      "_________________________________________________________________\n"
     ]
    }
   ],
   "source": [
    "import tensorflow as tf\n",
    "training_block_1 = tf.keras.Sequential(\n",
    "            [\n",
    "                GroupedLayer(64, (64,64), 6) for _ in range(2)\n",
    "            ]\n",
    "        )\n",
    "\n",
    "training_block_1.build((16,224,224,3))\n",
    "\n",
    "training_block_1.summary()\n",
    "training_block_1.trainable_variables\n",
    "training_block_1.compile()"
   ]
  },
  {
   "cell_type": "code",
   "execution_count": 4,
   "id": "8c8311c4",
   "metadata": {},
   "outputs": [],
   "source": [
    "network_block = GroupedLayerInput(2, (3,3), 6)\n",
    "\n",
    "network_block.build((16,224,224,3))"
   ]
  },
  {
   "cell_type": "code",
   "execution_count": 12,
   "id": "ab2e340b",
   "metadata": {},
   "outputs": [],
   "source": [
    "forced_learner = ForcedLearnerClass(output_size=10)\n",
    "forced_learner.compile(\n",
    "    optimizer=tf.keras.optimizers.Adam(learning_rate=0.0003),\n",
    "    loss_fn=tf.keras.losses.Huber(),\n",
    ")"
   ]
  },
  {
   "cell_type": "code",
   "execution_count": 13,
   "id": "22bf7635",
   "metadata": {},
   "outputs": [],
   "source": [
    "batch_size = 10\n",
    "(x_train, Y_train), (x_test, Y_test) = tf.keras.datasets.cifar10.load_data()"
   ]
  },
  {
   "cell_type": "code",
   "execution_count": 14,
   "id": "a817c0dd",
   "metadata": {},
   "outputs": [],
   "source": [
    "import numpy as np\n",
    "all_digits = np.concatenate([x_train, x_test])\n",
    "all_output = np.concatenate([Y_train, Y_test])\n",
    "all_output_one_hot = tf.one_hot(np.squeeze(all_output), 10)\n",
    "all_digits = all_digits.astype(\"float32\") / 255.0"
   ]
  },
  {
   "cell_type": "code",
   "execution_count": 15,
   "id": "8086745e",
   "metadata": {
    "scrolled": true
   },
   "outputs": [],
   "source": [
    "all_digits = np.reshape(all_digits, (-1, 32, 32, 3))\n",
    "dataset = tf.data.Dataset.from_tensor_slices((all_digits, all_output_one_hot))\n",
    "dataset = dataset.shuffle(buffer_size=1024)\n",
    "dataset = dataset.batch(batch_size).prefetch(1)"
   ]
  },
  {
   "cell_type": "code",
   "execution_count": 16,
   "id": "6e45ac16",
   "metadata": {},
   "outputs": [],
   "source": [
    "DATASET_SIZE=60000\n",
    "train_size = int(0.7 * DATASET_SIZE)\n",
    "val_size = int(0.15 * DATASET_SIZE)\n",
    "test_size = int(0.15 * DATASET_SIZE)\n",
    "\n",
    "full_dataset = dataset\n",
    "train_dataset = full_dataset.take(train_size)\n",
    "test_dataset = full_dataset.skip(train_size)\n",
    "val_dataset = test_dataset.skip(test_size)\n",
    "test_dataset = test_dataset.take(test_size)"
   ]
  },
  {
   "cell_type": "code",
   "execution_count": 17,
   "id": "e8d54ebc",
   "metadata": {
    "scrolled": true
   },
   "outputs": [
    {
     "name": "stdout",
     "output_type": "stream",
     "text": [
      "Epoch 1/10\n"
     ]
    },
    {
     "ename": "NameError",
     "evalue": "in user code:\n\n    File \"/home/jack/ml/my_env/lib/python3.8/site-packages/keras/engine/training.py\", line 878, in train_function  *\n        return step_function(self, iterator)\n    File \"/home/jack/ml/my_env/lib/python3.8/site-packages/keras/engine/training.py\", line 867, in step_function  **\n        outputs = model.distribute_strategy.run(run_step, args=(data,))\n    File \"/home/jack/ml/my_env/lib/python3.8/site-packages/keras/engine/training.py\", line 860, in run_step  **\n        outputs = model.train_step(data)\n    File \"/tmp/ipykernel_132726/1120599091.py\", line 60, in train_step\n        gradients_input = tape.gradient(loss_input, self.input_block.trainable_variables)\n\n    NameError: name 'tape' is not defined\n",
     "output_type": "error",
     "traceback": [
      "\u001b[0;31m---------------------------------------------------------------------------\u001b[0m",
      "\u001b[0;31mNameError\u001b[0m                                 Traceback (most recent call last)",
      "\u001b[0;32m/tmp/ipykernel_132726/3188487248.py\u001b[0m in \u001b[0;36m<module>\u001b[0;34m\u001b[0m\n\u001b[0;32m----> 1\u001b[0;31m \u001b[0mhistory\u001b[0m \u001b[0;34m=\u001b[0m \u001b[0mforced_learner\u001b[0m\u001b[0;34m.\u001b[0m\u001b[0mfit\u001b[0m\u001b[0;34m(\u001b[0m\u001b[0mtrain_dataset\u001b[0m\u001b[0;34m,\u001b[0m \u001b[0mepochs\u001b[0m\u001b[0;34m=\u001b[0m\u001b[0;36m10\u001b[0m\u001b[0;34m)\u001b[0m\u001b[0;34m\u001b[0m\u001b[0;34m\u001b[0m\u001b[0m\n\u001b[0m",
      "\u001b[0;32m~/ml/my_env/lib/python3.8/site-packages/keras/utils/traceback_utils.py\u001b[0m in \u001b[0;36merror_handler\u001b[0;34m(*args, **kwargs)\u001b[0m\n\u001b[1;32m     65\u001b[0m     \u001b[0;32mexcept\u001b[0m \u001b[0mException\u001b[0m \u001b[0;32mas\u001b[0m \u001b[0me\u001b[0m\u001b[0;34m:\u001b[0m  \u001b[0;31m# pylint: disable=broad-except\u001b[0m\u001b[0;34m\u001b[0m\u001b[0;34m\u001b[0m\u001b[0m\n\u001b[1;32m     66\u001b[0m       \u001b[0mfiltered_tb\u001b[0m \u001b[0;34m=\u001b[0m \u001b[0m_process_traceback_frames\u001b[0m\u001b[0;34m(\u001b[0m\u001b[0me\u001b[0m\u001b[0;34m.\u001b[0m\u001b[0m__traceback__\u001b[0m\u001b[0;34m)\u001b[0m\u001b[0;34m\u001b[0m\u001b[0;34m\u001b[0m\u001b[0m\n\u001b[0;32m---> 67\u001b[0;31m       \u001b[0;32mraise\u001b[0m \u001b[0me\u001b[0m\u001b[0;34m.\u001b[0m\u001b[0mwith_traceback\u001b[0m\u001b[0;34m(\u001b[0m\u001b[0mfiltered_tb\u001b[0m\u001b[0;34m)\u001b[0m \u001b[0;32mfrom\u001b[0m \u001b[0;32mNone\u001b[0m\u001b[0;34m\u001b[0m\u001b[0;34m\u001b[0m\u001b[0m\n\u001b[0m\u001b[1;32m     68\u001b[0m     \u001b[0;32mfinally\u001b[0m\u001b[0;34m:\u001b[0m\u001b[0;34m\u001b[0m\u001b[0;34m\u001b[0m\u001b[0m\n\u001b[1;32m     69\u001b[0m       \u001b[0;32mdel\u001b[0m \u001b[0mfiltered_tb\u001b[0m\u001b[0;34m\u001b[0m\u001b[0;34m\u001b[0m\u001b[0m\n",
      "\u001b[0;32m~/ml/my_env/lib/python3.8/site-packages/tensorflow/python/framework/func_graph.py\u001b[0m in \u001b[0;36mautograph_handler\u001b[0;34m(*args, **kwargs)\u001b[0m\n\u001b[1;32m   1127\u001b[0m           \u001b[0;32mexcept\u001b[0m \u001b[0mException\u001b[0m \u001b[0;32mas\u001b[0m \u001b[0me\u001b[0m\u001b[0;34m:\u001b[0m  \u001b[0;31m# pylint:disable=broad-except\u001b[0m\u001b[0;34m\u001b[0m\u001b[0;34m\u001b[0m\u001b[0m\n\u001b[1;32m   1128\u001b[0m             \u001b[0;32mif\u001b[0m \u001b[0mhasattr\u001b[0m\u001b[0;34m(\u001b[0m\u001b[0me\u001b[0m\u001b[0;34m,\u001b[0m \u001b[0;34m\"ag_error_metadata\"\u001b[0m\u001b[0;34m)\u001b[0m\u001b[0;34m:\u001b[0m\u001b[0;34m\u001b[0m\u001b[0;34m\u001b[0m\u001b[0m\n\u001b[0;32m-> 1129\u001b[0;31m               \u001b[0;32mraise\u001b[0m \u001b[0me\u001b[0m\u001b[0;34m.\u001b[0m\u001b[0mag_error_metadata\u001b[0m\u001b[0;34m.\u001b[0m\u001b[0mto_exception\u001b[0m\u001b[0;34m(\u001b[0m\u001b[0me\u001b[0m\u001b[0;34m)\u001b[0m\u001b[0;34m\u001b[0m\u001b[0;34m\u001b[0m\u001b[0m\n\u001b[0m\u001b[1;32m   1130\u001b[0m             \u001b[0;32melse\u001b[0m\u001b[0;34m:\u001b[0m\u001b[0;34m\u001b[0m\u001b[0;34m\u001b[0m\u001b[0m\n\u001b[1;32m   1131\u001b[0m               \u001b[0;32mraise\u001b[0m\u001b[0;34m\u001b[0m\u001b[0;34m\u001b[0m\u001b[0m\n",
      "\u001b[0;31mNameError\u001b[0m: in user code:\n\n    File \"/home/jack/ml/my_env/lib/python3.8/site-packages/keras/engine/training.py\", line 878, in train_function  *\n        return step_function(self, iterator)\n    File \"/home/jack/ml/my_env/lib/python3.8/site-packages/keras/engine/training.py\", line 867, in step_function  **\n        outputs = model.distribute_strategy.run(run_step, args=(data,))\n    File \"/home/jack/ml/my_env/lib/python3.8/site-packages/keras/engine/training.py\", line 860, in run_step  **\n        outputs = model.train_step(data)\n    File \"/tmp/ipykernel_132726/1120599091.py\", line 60, in train_step\n        gradients_input = tape.gradient(loss_input, self.input_block.trainable_variables)\n\n    NameError: name 'tape' is not defined\n"
     ]
    }
   ],
   "source": [
    "history = forced_learner.fit(train_dataset, epochs=10)"
   ]
  },
  {
   "cell_type": "code",
   "execution_count": null,
   "id": "556371ed",
   "metadata": {
    "scrolled": true
   },
   "outputs": [],
   "source": [
    "model_temp = tf.keras.applications.ResNet50V2(weights=None, input_shape=(32,32,3), classes=10)\n",
    "\n",
    "opt = tf.keras.optimizers.Nadam(learning_rate=3e-4)\n",
    "\n",
    "callback = [tf.keras.callbacks.ReduceLROnPlateau(monitor='loss', patience=7)]\n",
    "model_temp.compile(loss=\"Huber\", optimizer=opt, metrics=['mse', 'mae', 'mape', 'accuracy'])\n",
    "history = model_temp.fit(train_dataset, batch_size=16, epochs=100, callbacks=[callback],\n",
    "                    validation_data=(val_dataset))"
   ]
  },
  {
   "cell_type": "code",
   "execution_count": null,
   "id": "6abb9e1b",
   "metadata": {
    "scrolled": true
   },
   "outputs": [],
   "source": [
    "np.__version__"
   ]
  },
  {
   "cell_type": "code",
   "execution_count": null,
   "id": "1391a304",
   "metadata": {},
   "outputs": [],
   "source": [
    "all_output_one_hot[0]"
   ]
  },
  {
   "cell_type": "code",
   "execution_count": null,
   "id": "01eba0a6",
   "metadata": {},
   "outputs": [],
   "source": [
    "input_block = GroupedLayerInput(filters=64,kernel_size=(3,3), final_output=6)\n",
    "training_block_1 = [GroupedLayer(64, (64,64), 6) for _ in range(2)]\n",
    "training_block_2 = [GroupedLayer(64, (64,64), 6) for _ in range(2)]\n",
    "training_block_3 = [GroupedLayer(64, (64,64), 6) for _ in range(2)]\n",
    "training_block_4 = [GroupedLayer(64, (64,64), 6) for _ in range(2)]"
   ]
  },
  {
   "cell_type": "code",
   "execution_count": null,
   "id": "1c829cf3",
   "metadata": {},
   "outputs": [],
   "source": [
    "train_dataset.take(1)"
   ]
  },
  {
   "cell_type": "code",
   "execution_count": null,
   "id": "08dd4fc3",
   "metadata": {},
   "outputs": [],
   "source": [
    "optimizer = tf.keras.optimizers.Adam(learning_rate=1e-3)\n",
    "mse_loss_fn = tf.keras.losses.MeanSquaredError()\n",
    "epochs = 2\n",
    "\n",
    "# Iterate over epochs.\n",
    "for epoch in range(epochs):\n",
    "    print(\"Start of epoch %d\" % (epoch,))\n",
    "\n",
    "    # Iterate over the batches of the dataset.\n",
    "    for step, x_batch_train in enumerate(train_dataset):\n",
    "        with tf.GradientTape() as tape:\n",
    "           \n",
    "        \n",
    "            #Compute Loss\n",
    "            loss = mse_loss_fn(x_batch_train, reconstructed)\n",
    "            loss += sum(vae.losses)  # Add KLD regularization loss\n",
    "\n",
    "        grads = tape.gradient(loss, vae.trainable_weights)\n",
    "        optimizer.apply_gradients(zip(grads, vae.trainable_weights))\n",
    "\n",
    "        loss_metric(loss)\n",
    "\n",
    "        if step % 100 == 0:\n",
    "            print(\"step %d: mean loss = %.4f\" % (step, loss_metric.result()))\n"
   ]
  }
 ],
 "metadata": {
  "kernelspec": {
   "display_name": "Python 3 (ipykernel)",
   "language": "python",
   "name": "python3"
  },
  "language_info": {
   "codemirror_mode": {
    "name": "ipython",
    "version": 3
   },
   "file_extension": ".py",
   "mimetype": "text/x-python",
   "name": "python",
   "nbconvert_exporter": "python",
   "pygments_lexer": "ipython3",
   "version": "3.8.10"
  }
 },
 "nbformat": 4,
 "nbformat_minor": 5
}
