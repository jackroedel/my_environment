{
 "cells": [
  {
   "cell_type": "code",
   "execution_count": 39,
   "id": "22bf7635",
   "metadata": {},
   "outputs": [],
   "source": [
    "import tensorflow as tf\n",
    "batch_size = 64\n",
    "(x_train, Y_train), (x_test, Y_test) = tf.keras.datasets.cifar10.load_data()"
   ]
  },
  {
   "cell_type": "code",
   "execution_count": 8,
   "id": "a817c0dd",
   "metadata": {},
   "outputs": [],
   "source": [
    "import numpy as np\n",
    "all_digits = np.concatenate([x_train, x_test])\n",
    "all_output = np.concatenate([Y_train, Y_test])\n",
    "all_output_one_hot = tf.one_hot(np.squeeze(all_output), 10)\n",
    "all_digits = all_digits.astype(\"float32\") / 255.0"
   ]
  },
  {
   "cell_type": "code",
   "execution_count": 9,
   "id": "8086745e",
   "metadata": {
    "scrolled": true
   },
   "outputs": [],
   "source": [
    "all_digits = np.reshape(all_digits, (-1, 32, 32, 3))\n",
    "dataset = tf.data.Dataset.from_tensor_slices((all_digits, all_output_one_hot))\n",
    "dataset = dataset.shuffle(buffer_size=1024)\n",
    "dataset = dataset.batch(batch_size).prefetch(1)"
   ]
  },
  {
   "cell_type": "code",
   "execution_count": 10,
   "id": "6e45ac16",
   "metadata": {},
   "outputs": [],
   "source": [
    "DATASET_SIZE=60000\n",
    "train_size = int(0.7 * DATASET_SIZE)\n",
    "val_size = int(0.15 * DATASET_SIZE)\n",
    "test_size = int(0.15 * DATASET_SIZE)\n",
    "\n",
    "full_dataset = dataset\n",
    "train_dataset = full_dataset.take(train_size)\n",
    "test_dataset = full_dataset.skip(train_size)\n",
    "val_dataset = test_dataset.skip(test_size)\n",
    "test_dataset = test_dataset.take(test_size)"
   ]
  },
  {
   "cell_type": "code",
   "execution_count": 149,
   "id": "6abb9e1b",
   "metadata": {
    "scrolled": true
   },
   "outputs": [
    {
     "name": "stdout",
     "output_type": "stream",
     "text": [
      "tf.Tensor(\n",
      "[[0. 0. 0. 0. 0. 0. 1. 0. 0. 0.]\n",
      " [0. 0. 1. 0. 0. 0. 0. 0. 0. 0.]\n",
      " [0. 0. 0. 0. 0. 0. 0. 0. 1. 0.]\n",
      " [0. 0. 0. 0. 0. 0. 0. 0. 1. 0.]\n",
      " [0. 0. 0. 0. 0. 0. 0. 0. 0. 1.]\n",
      " [0. 1. 0. 0. 0. 0. 0. 0. 0. 0.]\n",
      " [0. 1. 0. 0. 0. 0. 0. 0. 0. 0.]\n",
      " [0. 0. 0. 0. 0. 0. 0. 1. 0. 0.]\n",
      " [0. 1. 0. 0. 0. 0. 0. 0. 0. 0.]\n",
      " [0. 0. 0. 0. 0. 0. 1. 0. 0. 0.]], shape=(10, 10), dtype=float32)\n"
     ]
    }
   ],
   "source": [
    "for line in dataset.take(1):\n",
    "    print(line[1])"
   ]
  },
  {
   "cell_type": "code",
   "execution_count": 11,
   "id": "01eba0a6",
   "metadata": {},
   "outputs": [],
   "source": [
    "model_16 = tf.keras.Sequential(\n",
    "    [\n",
    "        tf.keras.Input(shape=(32,32,3)),\n",
    "        tf.keras.layers.Conv2D(16, 3, padding='same',activation='relu'),\n",
    "        tf.keras.layers.Conv2D(16, 3, padding='same',activation='relu'),\n",
    "        tf.keras.layers.Conv2D(16, 3, padding='same',activation='relu'),\n",
    "        tf.keras.layers.Conv2D(16, 3, padding='same',activation='relu'),\n",
    "        tf.keras.layers.Conv2D(16, 3, padding='same',activation='relu'),\n",
    "        tf.keras.layers.Conv2D(16, 3, padding='same',activation='relu'),\n",
    "        tf.keras.layers.Conv2D(16, 3, padding='same',activation='relu'),\n",
    "    ], name = \"block_1\"\n",
    ")\n",
    "\n",
    "model_32 = tf.keras.Sequential(\n",
    "    [\n",
    "        tf.keras.Input(shape=(32,32,16)),\n",
    "        tf.keras.layers.Conv2D(32, 3, strides=(2,2), padding=\"same\", activation='relu'),\n",
    "        tf.keras.layers.Conv2D(32, 3, padding=\"same\", activation='relu'),\n",
    "        tf.keras.layers.Conv2D(32, 3, padding=\"same\", activation='relu'),\n",
    "        tf.keras.layers.Conv2D(32, 3, padding=\"same\", activation='relu'),\n",
    "        tf.keras.layers.Conv2D(32, 3, padding=\"same\", activation='relu'),\n",
    "        tf.keras.layers.Conv2D(32, 3, padding=\"same\", activation='relu'),\n",
    "        tf.keras.layers.Conv2D(32, 3, padding=\"same\", activation='relu'),\n",
    "    ], name = \"block_2\"\n",
    ")\n",
    "\n",
    "model_64 = tf.keras.Sequential(\n",
    "    [\n",
    "        tf.keras.Input(shape=(16,16,32)),\n",
    "        tf.keras.layers.Conv2D(64, 3, strides=(2,2), padding=\"same\", activation='relu'),\n",
    "        tf.keras.layers.Conv2D(64, 3, padding=\"same\", activation='relu'),\n",
    "        tf.keras.layers.Conv2D(64, 3, padding=\"same\", activation='relu'),\n",
    "        tf.keras.layers.Conv2D(64, 3, padding=\"same\", activation='relu'),\n",
    "        tf.keras.layers.Conv2D(64, 3, padding=\"same\", activation='relu'),\n",
    "        tf.keras.layers.Conv2D(64, 3, padding=\"same\", activation='relu'),\n",
    "        tf.keras.layers.Conv2D(64, 3, padding=\"same\", activation='relu'),\n",
    "        tf.keras.layers.AveragePooling2D(pool_size=(8,8), strides=(1, 1), padding='valid'),\n",
    "        tf.keras.layers.Flatten(),\n",
    "        tf.keras.layers.Dense(10, activation=\"softmax\")\n",
    "    ], name = \"block_3\"\n",
    ")"
   ]
  },
  {
   "cell_type": "code",
   "execution_count": 12,
   "id": "1c829cf3",
   "metadata": {},
   "outputs": [],
   "source": [
    "class ForcedNet20(tf.keras.Model):\n",
    "    def __init__(self, block_1, block_2, block_3):\n",
    "        super(ForcedNet20, self).__init__()\n",
    "        self.block_1 = block_1\n",
    "        self.output_1 = tf.keras.Sequential(\n",
    "            [\n",
    "                tf.keras.layers.AveragePooling2D(pool_size=(32,32), strides=(1, 1), padding='valid'),\n",
    "                tf.keras.layers.Flatten(),\n",
    "                tf.keras.layers.Dense(10, activation=\"softmax\")\n",
    "            ]\n",
    "        )\n",
    "        \n",
    "        self.block_2 = block_2\n",
    "        self.output_2 = tf.keras.Sequential(\n",
    "            [\n",
    "                tf.keras.layers.AveragePooling2D(pool_size=(16,16), strides=(1, 1), padding='valid'),\n",
    "                tf.keras.layers.Flatten(),\n",
    "                tf.keras.layers.Dense(10, activation=\"softmax\")\n",
    "            ]\n",
    "        )\n",
    "        \n",
    "        self.block_3 = block_3\n",
    "    def compile(self, optimizer, loss_fn):\n",
    "        super(ForcedNet20, self).compile()\n",
    "        self.optimizer = optimizer\n",
    "        self.loss_fn = loss_fn\n",
    "    \n",
    "    def train_step(self, data):\n",
    "        images = data[0]\n",
    "        labels = data[1]\n",
    "        \n",
    "        with tf.GradientTape(persistent=True) as tape:\n",
    "            x = self.block_1(images)\n",
    "            predictions_1 = self.output_1(x)\n",
    "            \n",
    "            x = self.block_2(x)\n",
    "            predictions_2 = self.output_2(x)\n",
    "\n",
    "            predictions_3 = self.block_3(x)\n",
    "            \n",
    "            loss_1 = self.loss_fn(labels, predictions_1)\n",
    "            loss_2 = self.loss_fn(labels, predictions_2)\n",
    "            loss_3 = self.loss_fn(labels, predictions_3)\n",
    "        \n",
    "        grads_1 = tape.gradient(loss_1, self.block_1.trainable_weights)\n",
    "        grads_2 = tape.gradient(loss_2, self.block_2.trainable_weights)\n",
    "        grads_final = tape.gradient(loss_3, self.block_3.trainable_weights)\n",
    "        \n",
    "        grads_1_output = tape.gradient(loss_1, self.output_1.trainable_weights)\n",
    "        grads_2_output = tape.gradient(loss_2, self.output_2.trainable_weights)\n",
    "                                \n",
    "        self.optimizer.apply_gradients(\n",
    "            zip(grads_1, self.block_1.trainable_weights,)\n",
    "        )\n",
    "        self.optimizer.apply_gradients(\n",
    "            zip(grads_1_output, self.output_1.trainable_weights)\n",
    "        )\n",
    "        \n",
    "        self.optimizer.apply_gradients(\n",
    "            zip(grads_2, self.block_2.trainable_weights)\n",
    "        )\n",
    "        \n",
    "        self.optimizer.apply_gradients(\n",
    "            zip(grads_2_output, self.output_2.trainable_weights)\n",
    "        )\n",
    "        \n",
    "        self.optimizer.apply_gradients(\n",
    "            zip(grads_final, self.block_3.trainable_weights)\n",
    "        )\n",
    "        \n",
    "        return {\"Block_1_Loss\": loss_1, \"Block_2_Loss\": loss_2, \"Block_3_Loss\": loss_3}"
   ]
  },
  {
   "cell_type": "code",
   "execution_count": null,
   "id": "08dd4fc3",
   "metadata": {
    "scrolled": true
   },
   "outputs": [
    {
     "name": "stdout",
     "output_type": "stream",
     "text": [
      "Epoch 1/10\n",
      "6000/6000 [==============================] - 37s 6ms/step - BLock_1_Loss: 1.3077 - Block_2_Loss: 1.2956 - Block_3_Loss: 1.2272\n",
      "Epoch 2/10\n",
      "6000/6000 [==============================] - 36s 6ms/step - BLock_1_Loss: 1.1346 - Block_2_Loss: 1.0871 - Block_3_Loss: 1.0623\n",
      "Epoch 3/10\n",
      "6000/6000 [==============================] - 36s 6ms/step - BLock_1_Loss: 1.0885 - Block_2_Loss: 1.0205 - Block_3_Loss: 1.0034\n",
      "Epoch 4/10\n",
      "6000/6000 [==============================] - 36s 6ms/step - BLock_1_Loss: 1.0620 - Block_2_Loss: 0.9872 - Block_3_Loss: 0.9765\n",
      "Epoch 5/10\n",
      "6000/6000 [==============================] - 36s 6ms/step - BLock_1_Loss: 1.0388 - Block_2_Loss: 0.9561 - Block_3_Loss: 0.9489\n",
      "Epoch 6/10\n",
      "6000/6000 [==============================] - 36s 6ms/step - BLock_1_Loss: 1.0164 - Block_2_Loss: 0.9264 - Block_3_Loss: 0.9225\n",
      "Epoch 7/10\n",
      "6000/6000 [==============================] - 36s 6ms/step - BLock_1_Loss: 0.9993 - Block_2_Loss: 0.9051 - Block_3_Loss: 0.9017\n",
      "Epoch 8/10\n",
      "6000/6000 [==============================] - 37s 6ms/step - BLock_1_Loss: 0.9846 - Block_2_Loss: 0.8914 - Block_3_Loss: 0.8899\n",
      "Epoch 9/10\n",
      "4257/6000 [====================>.........] - ETA: 10s - BLock_1_Loss: 0.9684 - Block_2_Loss: 0.8785 - Block_3_Loss: 0.8774"
     ]
    }
   ],
   "source": [
    "from sklearn.metrics import accuracy_score, mean_absolute_error, mean_squared_error, mean_absolute_percentage_error\n",
    "class Metrics(tf.keras.callbacks.Callback):\n",
    "    def on_train_begin(self, logs={}):\n",
    "        self._data = []\n",
    "\n",
    "    def on_epoch_end(self, batch, logs={}):\n",
    "        X_val, y_val = self.validation_data[0], self.validation_data[1]\n",
    "        y_predict = np.asarray(model.predict(X_val))\n",
    "\n",
    "        y_val = np.argmax(y_val, axis=1)\n",
    "        y_predict = np.argmax(y_predict, axis=1)\n",
    "\n",
    "        self._data.append({\n",
    "            'mse': mean_squared_error(y_val, y_predict),\n",
    "        })\n",
    "        self._data.append({\n",
    "            'mae': mean_absolute_error(y_val, y_predict),\n",
    "        })\n",
    "        self._data.append({\n",
    "            'mape': mean_absolute_percentage_error(y_val, y_predict),\n",
    "        })\n",
    "        self._data.append({\n",
    "            'accuracy': accuracy_score(y_val, y_predict),\n",
    "        })\n",
    "        return\n",
    "\n",
    "    def get_data(self):\n",
    "        return self._data\n",
    "\n",
    "metrics = Metrics()\n",
    "\n",
    "ForcedLearner = ForcedNet20(model_16, model_32, model_64)\n",
    "ForcedLearner.compile(\n",
    "    optimizer=tf.keras.optimizers.Adam(learning_rate=0.0003),\n",
    "    loss_fn=tf.keras.losses.CategoricalCrossentropy(),\n",
    ")\n",
    "\n",
    "ForcedLearner.fit(train_dataset, epochs=10, validation_data=(val_dataset))\n",
    "metrics.get_data()"
   ]
  },
  {
   "cell_type": "code",
   "execution_count": 32,
   "id": "e2b00976",
   "metadata": {
    "scrolled": true
   },
   "outputs": [
    {
     "name": "stdout",
     "output_type": "stream",
     "text": [
      "Epoch 1/10\n",
      "2816/6000 [=============>................] - ETA: 1:09 - loss: 2.2238 - mse: 0.0874 - mae: 0.1623 - mape: 81164456.0000 - accuracy: 0.2610"
     ]
    },
    {
     "ename": "KeyboardInterrupt",
     "evalue": "",
     "output_type": "error",
     "traceback": [
      "\u001b[0;31m---------------------------------------------------------------------------\u001b[0m",
      "\u001b[0;31mKeyboardInterrupt\u001b[0m                         Traceback (most recent call last)",
      "\u001b[0;32m/tmp/ipykernel_3246/1542669359.py\u001b[0m in \u001b[0;36m<module>\u001b[0;34m\u001b[0m\n\u001b[1;32m      2\u001b[0m \u001b[0;34m\u001b[0m\u001b[0m\n\u001b[1;32m      3\u001b[0m \u001b[0mResnet\u001b[0m\u001b[0;34m.\u001b[0m\u001b[0mcompile\u001b[0m\u001b[0;34m(\u001b[0m\u001b[0mloss\u001b[0m\u001b[0;34m=\u001b[0m\u001b[0;34m\"CategoricalCrossentropy\"\u001b[0m\u001b[0;34m,\u001b[0m \u001b[0moptimizer\u001b[0m\u001b[0;34m=\u001b[0m\u001b[0mtf\u001b[0m\u001b[0;34m.\u001b[0m\u001b[0mkeras\u001b[0m\u001b[0;34m.\u001b[0m\u001b[0moptimizers\u001b[0m\u001b[0;34m.\u001b[0m\u001b[0mAdam\u001b[0m\u001b[0;34m(\u001b[0m\u001b[0mlearning_rate\u001b[0m\u001b[0;34m=\u001b[0m\u001b[0;36m0.0003\u001b[0m\u001b[0;34m)\u001b[0m\u001b[0;34m,\u001b[0m \u001b[0mmetrics\u001b[0m\u001b[0;34m=\u001b[0m\u001b[0;34m[\u001b[0m\u001b[0;34m'mse'\u001b[0m\u001b[0;34m,\u001b[0m \u001b[0;34m'mae'\u001b[0m\u001b[0;34m,\u001b[0m \u001b[0;34m'mape'\u001b[0m\u001b[0;34m,\u001b[0m \u001b[0;34m'accuracy'\u001b[0m\u001b[0;34m]\u001b[0m\u001b[0;34m)\u001b[0m\u001b[0;34m\u001b[0m\u001b[0;34m\u001b[0m\u001b[0m\n\u001b[0;32m----> 4\u001b[0;31m \u001b[0mhistory\u001b[0m \u001b[0;34m=\u001b[0m \u001b[0mResnet\u001b[0m\u001b[0;34m.\u001b[0m\u001b[0mfit\u001b[0m\u001b[0;34m(\u001b[0m\u001b[0mtrain_dataset\u001b[0m\u001b[0;34m,\u001b[0m \u001b[0mbatch_size\u001b[0m\u001b[0;34m=\u001b[0m\u001b[0;36m64\u001b[0m\u001b[0;34m,\u001b[0m \u001b[0mepochs\u001b[0m\u001b[0;34m=\u001b[0m\u001b[0;36m10\u001b[0m\u001b[0;34m)\u001b[0m\u001b[0;34m\u001b[0m\u001b[0;34m\u001b[0m\u001b[0m\n\u001b[0m",
      "\u001b[0;32m~/ml/my_env/lib/python3.8/site-packages/keras/utils/traceback_utils.py\u001b[0m in \u001b[0;36merror_handler\u001b[0;34m(*args, **kwargs)\u001b[0m\n\u001b[1;32m     62\u001b[0m     \u001b[0mfiltered_tb\u001b[0m \u001b[0;34m=\u001b[0m \u001b[0;32mNone\u001b[0m\u001b[0;34m\u001b[0m\u001b[0;34m\u001b[0m\u001b[0m\n\u001b[1;32m     63\u001b[0m     \u001b[0;32mtry\u001b[0m\u001b[0;34m:\u001b[0m\u001b[0;34m\u001b[0m\u001b[0;34m\u001b[0m\u001b[0m\n\u001b[0;32m---> 64\u001b[0;31m       \u001b[0;32mreturn\u001b[0m \u001b[0mfn\u001b[0m\u001b[0;34m(\u001b[0m\u001b[0;34m*\u001b[0m\u001b[0margs\u001b[0m\u001b[0;34m,\u001b[0m \u001b[0;34m**\u001b[0m\u001b[0mkwargs\u001b[0m\u001b[0;34m)\u001b[0m\u001b[0;34m\u001b[0m\u001b[0;34m\u001b[0m\u001b[0m\n\u001b[0m\u001b[1;32m     65\u001b[0m     \u001b[0;32mexcept\u001b[0m \u001b[0mException\u001b[0m \u001b[0;32mas\u001b[0m \u001b[0me\u001b[0m\u001b[0;34m:\u001b[0m  \u001b[0;31m# pylint: disable=broad-except\u001b[0m\u001b[0;34m\u001b[0m\u001b[0;34m\u001b[0m\u001b[0m\n\u001b[1;32m     66\u001b[0m       \u001b[0mfiltered_tb\u001b[0m \u001b[0;34m=\u001b[0m \u001b[0m_process_traceback_frames\u001b[0m\u001b[0;34m(\u001b[0m\u001b[0me\u001b[0m\u001b[0;34m.\u001b[0m\u001b[0m__traceback__\u001b[0m\u001b[0;34m)\u001b[0m\u001b[0;34m\u001b[0m\u001b[0;34m\u001b[0m\u001b[0m\n",
      "\u001b[0;32m~/ml/my_env/lib/python3.8/site-packages/keras/engine/training.py\u001b[0m in \u001b[0;36mfit\u001b[0;34m(self, x, y, batch_size, epochs, verbose, callbacks, validation_split, validation_data, shuffle, class_weight, sample_weight, initial_epoch, steps_per_epoch, validation_steps, validation_batch_size, validation_freq, max_queue_size, workers, use_multiprocessing)\u001b[0m\n\u001b[1;32m   1214\u001b[0m                 _r=1):\n\u001b[1;32m   1215\u001b[0m               \u001b[0mcallbacks\u001b[0m\u001b[0;34m.\u001b[0m\u001b[0mon_train_batch_begin\u001b[0m\u001b[0;34m(\u001b[0m\u001b[0mstep\u001b[0m\u001b[0;34m)\u001b[0m\u001b[0;34m\u001b[0m\u001b[0;34m\u001b[0m\u001b[0m\n\u001b[0;32m-> 1216\u001b[0;31m               \u001b[0mtmp_logs\u001b[0m \u001b[0;34m=\u001b[0m \u001b[0mself\u001b[0m\u001b[0;34m.\u001b[0m\u001b[0mtrain_function\u001b[0m\u001b[0;34m(\u001b[0m\u001b[0miterator\u001b[0m\u001b[0;34m)\u001b[0m\u001b[0;34m\u001b[0m\u001b[0;34m\u001b[0m\u001b[0m\n\u001b[0m\u001b[1;32m   1217\u001b[0m               \u001b[0;32mif\u001b[0m \u001b[0mdata_handler\u001b[0m\u001b[0;34m.\u001b[0m\u001b[0mshould_sync\u001b[0m\u001b[0;34m:\u001b[0m\u001b[0;34m\u001b[0m\u001b[0;34m\u001b[0m\u001b[0m\n\u001b[1;32m   1218\u001b[0m                 \u001b[0mcontext\u001b[0m\u001b[0;34m.\u001b[0m\u001b[0masync_wait\u001b[0m\u001b[0;34m(\u001b[0m\u001b[0;34m)\u001b[0m\u001b[0;34m\u001b[0m\u001b[0;34m\u001b[0m\u001b[0m\n",
      "\u001b[0;32m~/ml/my_env/lib/python3.8/site-packages/tensorflow/python/util/traceback_utils.py\u001b[0m in \u001b[0;36merror_handler\u001b[0;34m(*args, **kwargs)\u001b[0m\n\u001b[1;32m    148\u001b[0m     \u001b[0mfiltered_tb\u001b[0m \u001b[0;34m=\u001b[0m \u001b[0;32mNone\u001b[0m\u001b[0;34m\u001b[0m\u001b[0;34m\u001b[0m\u001b[0m\n\u001b[1;32m    149\u001b[0m     \u001b[0;32mtry\u001b[0m\u001b[0;34m:\u001b[0m\u001b[0;34m\u001b[0m\u001b[0;34m\u001b[0m\u001b[0m\n\u001b[0;32m--> 150\u001b[0;31m       \u001b[0;32mreturn\u001b[0m \u001b[0mfn\u001b[0m\u001b[0;34m(\u001b[0m\u001b[0;34m*\u001b[0m\u001b[0margs\u001b[0m\u001b[0;34m,\u001b[0m \u001b[0;34m**\u001b[0m\u001b[0mkwargs\u001b[0m\u001b[0;34m)\u001b[0m\u001b[0;34m\u001b[0m\u001b[0;34m\u001b[0m\u001b[0m\n\u001b[0m\u001b[1;32m    151\u001b[0m     \u001b[0;32mexcept\u001b[0m \u001b[0mException\u001b[0m \u001b[0;32mas\u001b[0m \u001b[0me\u001b[0m\u001b[0;34m:\u001b[0m\u001b[0;34m\u001b[0m\u001b[0;34m\u001b[0m\u001b[0m\n\u001b[1;32m    152\u001b[0m       \u001b[0mfiltered_tb\u001b[0m \u001b[0;34m=\u001b[0m \u001b[0m_process_traceback_frames\u001b[0m\u001b[0;34m(\u001b[0m\u001b[0me\u001b[0m\u001b[0;34m.\u001b[0m\u001b[0m__traceback__\u001b[0m\u001b[0;34m)\u001b[0m\u001b[0;34m\u001b[0m\u001b[0;34m\u001b[0m\u001b[0m\n",
      "\u001b[0;32m~/ml/my_env/lib/python3.8/site-packages/tensorflow/python/eager/def_function.py\u001b[0m in \u001b[0;36m__call__\u001b[0;34m(self, *args, **kwds)\u001b[0m\n\u001b[1;32m    908\u001b[0m \u001b[0;34m\u001b[0m\u001b[0m\n\u001b[1;32m    909\u001b[0m       \u001b[0;32mwith\u001b[0m \u001b[0mOptionalXlaContext\u001b[0m\u001b[0;34m(\u001b[0m\u001b[0mself\u001b[0m\u001b[0;34m.\u001b[0m\u001b[0m_jit_compile\u001b[0m\u001b[0;34m)\u001b[0m\u001b[0;34m:\u001b[0m\u001b[0;34m\u001b[0m\u001b[0;34m\u001b[0m\u001b[0m\n\u001b[0;32m--> 910\u001b[0;31m         \u001b[0mresult\u001b[0m \u001b[0;34m=\u001b[0m \u001b[0mself\u001b[0m\u001b[0;34m.\u001b[0m\u001b[0m_call\u001b[0m\u001b[0;34m(\u001b[0m\u001b[0;34m*\u001b[0m\u001b[0margs\u001b[0m\u001b[0;34m,\u001b[0m \u001b[0;34m**\u001b[0m\u001b[0mkwds\u001b[0m\u001b[0;34m)\u001b[0m\u001b[0;34m\u001b[0m\u001b[0;34m\u001b[0m\u001b[0m\n\u001b[0m\u001b[1;32m    911\u001b[0m \u001b[0;34m\u001b[0m\u001b[0m\n\u001b[1;32m    912\u001b[0m       \u001b[0mnew_tracing_count\u001b[0m \u001b[0;34m=\u001b[0m \u001b[0mself\u001b[0m\u001b[0;34m.\u001b[0m\u001b[0mexperimental_get_tracing_count\u001b[0m\u001b[0;34m(\u001b[0m\u001b[0;34m)\u001b[0m\u001b[0;34m\u001b[0m\u001b[0;34m\u001b[0m\u001b[0m\n",
      "\u001b[0;32m~/ml/my_env/lib/python3.8/site-packages/tensorflow/python/eager/def_function.py\u001b[0m in \u001b[0;36m_call\u001b[0;34m(self, *args, **kwds)\u001b[0m\n\u001b[1;32m    940\u001b[0m       \u001b[0;31m# In this case we have created variables on the first call, so we run the\u001b[0m\u001b[0;34m\u001b[0m\u001b[0;34m\u001b[0m\u001b[0;34m\u001b[0m\u001b[0m\n\u001b[1;32m    941\u001b[0m       \u001b[0;31m# defunned version which is guaranteed to never create variables.\u001b[0m\u001b[0;34m\u001b[0m\u001b[0;34m\u001b[0m\u001b[0;34m\u001b[0m\u001b[0m\n\u001b[0;32m--> 942\u001b[0;31m       \u001b[0;32mreturn\u001b[0m \u001b[0mself\u001b[0m\u001b[0;34m.\u001b[0m\u001b[0m_stateless_fn\u001b[0m\u001b[0;34m(\u001b[0m\u001b[0;34m*\u001b[0m\u001b[0margs\u001b[0m\u001b[0;34m,\u001b[0m \u001b[0;34m**\u001b[0m\u001b[0mkwds\u001b[0m\u001b[0;34m)\u001b[0m  \u001b[0;31m# pylint: disable=not-callable\u001b[0m\u001b[0;34m\u001b[0m\u001b[0;34m\u001b[0m\u001b[0m\n\u001b[0m\u001b[1;32m    943\u001b[0m     \u001b[0;32melif\u001b[0m \u001b[0mself\u001b[0m\u001b[0;34m.\u001b[0m\u001b[0m_stateful_fn\u001b[0m \u001b[0;32mis\u001b[0m \u001b[0;32mnot\u001b[0m \u001b[0;32mNone\u001b[0m\u001b[0;34m:\u001b[0m\u001b[0;34m\u001b[0m\u001b[0;34m\u001b[0m\u001b[0m\n\u001b[1;32m    944\u001b[0m       \u001b[0;31m# Release the lock early so that multiple threads can perform the call\u001b[0m\u001b[0;34m\u001b[0m\u001b[0;34m\u001b[0m\u001b[0;34m\u001b[0m\u001b[0m\n",
      "\u001b[0;32m~/ml/my_env/lib/python3.8/site-packages/tensorflow/python/eager/function.py\u001b[0m in \u001b[0;36m__call__\u001b[0;34m(self, *args, **kwargs)\u001b[0m\n\u001b[1;32m   3128\u001b[0m       (graph_function,\n\u001b[1;32m   3129\u001b[0m        filtered_flat_args) = self._maybe_define_function(args, kwargs)\n\u001b[0;32m-> 3130\u001b[0;31m     return graph_function._call_flat(\n\u001b[0m\u001b[1;32m   3131\u001b[0m         filtered_flat_args, captured_inputs=graph_function.captured_inputs)  # pylint: disable=protected-access\n\u001b[1;32m   3132\u001b[0m \u001b[0;34m\u001b[0m\u001b[0m\n",
      "\u001b[0;32m~/ml/my_env/lib/python3.8/site-packages/tensorflow/python/eager/function.py\u001b[0m in \u001b[0;36m_call_flat\u001b[0;34m(self, args, captured_inputs, cancellation_manager)\u001b[0m\n\u001b[1;32m   1957\u001b[0m         and executing_eagerly):\n\u001b[1;32m   1958\u001b[0m       \u001b[0;31m# No tape is watching; skip to running the function.\u001b[0m\u001b[0;34m\u001b[0m\u001b[0;34m\u001b[0m\u001b[0;34m\u001b[0m\u001b[0m\n\u001b[0;32m-> 1959\u001b[0;31m       return self._build_call_outputs(self._inference_function.call(\n\u001b[0m\u001b[1;32m   1960\u001b[0m           ctx, args, cancellation_manager=cancellation_manager))\n\u001b[1;32m   1961\u001b[0m     forward_backward = self._select_forward_and_backward_functions(\n",
      "\u001b[0;32m~/ml/my_env/lib/python3.8/site-packages/tensorflow/python/eager/function.py\u001b[0m in \u001b[0;36mcall\u001b[0;34m(self, ctx, args, cancellation_manager)\u001b[0m\n\u001b[1;32m    596\u001b[0m       \u001b[0;32mwith\u001b[0m \u001b[0m_InterpolateFunctionError\u001b[0m\u001b[0;34m(\u001b[0m\u001b[0mself\u001b[0m\u001b[0;34m)\u001b[0m\u001b[0;34m:\u001b[0m\u001b[0;34m\u001b[0m\u001b[0;34m\u001b[0m\u001b[0m\n\u001b[1;32m    597\u001b[0m         \u001b[0;32mif\u001b[0m \u001b[0mcancellation_manager\u001b[0m \u001b[0;32mis\u001b[0m \u001b[0;32mNone\u001b[0m\u001b[0;34m:\u001b[0m\u001b[0;34m\u001b[0m\u001b[0;34m\u001b[0m\u001b[0m\n\u001b[0;32m--> 598\u001b[0;31m           outputs = execute.execute(\n\u001b[0m\u001b[1;32m    599\u001b[0m               \u001b[0mstr\u001b[0m\u001b[0;34m(\u001b[0m\u001b[0mself\u001b[0m\u001b[0;34m.\u001b[0m\u001b[0msignature\u001b[0m\u001b[0;34m.\u001b[0m\u001b[0mname\u001b[0m\u001b[0;34m)\u001b[0m\u001b[0;34m,\u001b[0m\u001b[0;34m\u001b[0m\u001b[0;34m\u001b[0m\u001b[0m\n\u001b[1;32m    600\u001b[0m               \u001b[0mnum_outputs\u001b[0m\u001b[0;34m=\u001b[0m\u001b[0mself\u001b[0m\u001b[0;34m.\u001b[0m\u001b[0m_num_outputs\u001b[0m\u001b[0;34m,\u001b[0m\u001b[0;34m\u001b[0m\u001b[0;34m\u001b[0m\u001b[0m\n",
      "\u001b[0;32m~/ml/my_env/lib/python3.8/site-packages/tensorflow/python/eager/execute.py\u001b[0m in \u001b[0;36mquick_execute\u001b[0;34m(op_name, num_outputs, inputs, attrs, ctx, name)\u001b[0m\n\u001b[1;32m     56\u001b[0m   \u001b[0;32mtry\u001b[0m\u001b[0;34m:\u001b[0m\u001b[0;34m\u001b[0m\u001b[0;34m\u001b[0m\u001b[0m\n\u001b[1;32m     57\u001b[0m     \u001b[0mctx\u001b[0m\u001b[0;34m.\u001b[0m\u001b[0mensure_initialized\u001b[0m\u001b[0;34m(\u001b[0m\u001b[0;34m)\u001b[0m\u001b[0;34m\u001b[0m\u001b[0;34m\u001b[0m\u001b[0m\n\u001b[0;32m---> 58\u001b[0;31m     tensors = pywrap_tfe.TFE_Py_Execute(ctx._handle, device_name, op_name,\n\u001b[0m\u001b[1;32m     59\u001b[0m                                         inputs, attrs, num_outputs)\n\u001b[1;32m     60\u001b[0m   \u001b[0;32mexcept\u001b[0m \u001b[0mcore\u001b[0m\u001b[0;34m.\u001b[0m\u001b[0m_NotOkStatusException\u001b[0m \u001b[0;32mas\u001b[0m \u001b[0me\u001b[0m\u001b[0;34m:\u001b[0m\u001b[0;34m\u001b[0m\u001b[0;34m\u001b[0m\u001b[0m\n",
      "\u001b[0;31mKeyboardInterrupt\u001b[0m: "
     ]
    }
   ],
   "source": [
    "Resnet = tf.keras.applications.ResNet50(weights=None, input_shape=(32,32,3), classes=10)\n",
    "\n",
    "Resnet.compile(loss=\"CategoricalCrossentropy\", optimizer=tf.keras.optimizers.Adam(learning_rate=0.0003), metrics=['mse', 'mae', 'mape', 'accuracy'])\n",
    "history = Resnet.fit(train_dataset, batch_size=64, epochs=10)"
   ]
  },
  {
   "cell_type": "code",
   "execution_count": 35,
   "id": "71b67df7",
   "metadata": {},
   "outputs": [],
   "source": [
    "inputs = tf.keras.Input(shape=(32,32,3))\n",
    "x = model_16(inputs)\n",
    "x = model_32(x)\n",
    "outputs = model_64(x)\n",
    "\n",
    "model = tf.keras.Model(inputs=inputs, outputs=outputs, name=\"vanilla_model\")"
   ]
  },
  {
   "cell_type": "code",
   "execution_count": 37,
   "id": "4368f9ca",
   "metadata": {},
   "outputs": [
    {
     "name": "stdout",
     "output_type": "stream",
     "text": [
      "Model: \"vanilla_model\"\n",
      "_________________________________________________________________\n",
      " Layer (type)                Output Shape              Param #   \n",
      "=================================================================\n",
      " input_9 (InputLayer)        [(None, 32, 32, 3)]       0         \n",
      "                                                                 \n",
      " block_1 (Sequential)        (None, 32, 32, 16)        14368     \n",
      "                                                                 \n",
      " block_2 (Sequential)        (None, 16, 16, 32)        60128     \n",
      "                                                                 \n",
      " block_3 (Sequential)        (None, 10)                240714    \n",
      "                                                                 \n",
      "=================================================================\n",
      "Total params: 315,210\n",
      "Trainable params: 315,210\n",
      "Non-trainable params: 0\n",
      "_________________________________________________________________\n"
     ]
    }
   ],
   "source": [
    "model.summary()"
   ]
  },
  {
   "cell_type": "code",
   "execution_count": 40,
   "id": "5e1be31b",
   "metadata": {},
   "outputs": [
    {
     "name": "stdout",
     "output_type": "stream",
     "text": [
      "Epoch 1/10\n",
      "6000/6000 [==============================] - 46s 7ms/step - loss: 1.0716 - mse: 0.0504 - mae: 0.1005 - mape: 50272064.0000 - accuracy: 0.6150\n",
      "Epoch 2/10\n",
      "6000/6000 [==============================] - 45s 7ms/step - loss: 1.0402 - mse: 0.0490 - mae: 0.0979 - mape: 48925988.0000 - accuracy: 0.6243\n",
      "Epoch 3/10\n",
      "6000/6000 [==============================] - 44s 7ms/step - loss: 1.0104 - mse: 0.0477 - mae: 0.0953 - mape: 47648472.0000 - accuracy: 0.6350\n",
      "Epoch 4/10\n",
      "6000/6000 [==============================] - 44s 7ms/step - loss: 0.9863 - mse: 0.0467 - mae: 0.0932 - mape: 46621988.0000 - accuracy: 0.6449\n",
      "Epoch 5/10\n",
      "6000/6000 [==============================] - 44s 7ms/step - loss: 0.9665 - mse: 0.0458 - mae: 0.0914 - mape: 45713264.0000 - accuracy: 0.6519\n",
      "Epoch 6/10\n",
      "6000/6000 [==============================] - 44s 7ms/step - loss: 0.9508 - mse: 0.0450 - mae: 0.0899 - mape: 44944308.0000 - accuracy: 0.6593\n",
      "Epoch 7/10\n",
      "6000/6000 [==============================] - 45s 8ms/step - loss: 0.9328 - mse: 0.0443 - mae: 0.0884 - mape: 44195420.0000 - accuracy: 0.6666\n",
      "Epoch 8/10\n",
      "6000/6000 [==============================] - 44s 7ms/step - loss: 0.9083 - mse: 0.0432 - mae: 0.0863 - mape: 43134556.0000 - accuracy: 0.6748\n",
      "Epoch 9/10\n",
      "6000/6000 [==============================] - 44s 7ms/step - loss: 0.8985 - mse: 0.0429 - mae: 0.0855 - mape: 42726476.0000 - accuracy: 0.6764\n",
      "Epoch 10/10\n",
      "6000/6000 [==============================] - 44s 7ms/step - loss: 0.8837 - mse: 0.0421 - mae: 0.0840 - mape: 42011296.0000 - accuracy: 0.6840\n"
     ]
    }
   ],
   "source": [
    "model.compile(loss=\"CategoricalCrossentropy\", optimizer=tf.keras.optimizers.Adam(learning_rate=0.0003), metrics=['mse', 'mae', 'mape', 'accuracy'])\n",
    "history = model.fit(train_dataset, batch_size=64, epochs=10)"
   ]
  },
  {
   "cell_type": "code",
   "execution_count": null,
   "id": "f23eada9",
   "metadata": {},
   "outputs": [],
   "source": []
  }
 ],
 "metadata": {
  "kernelspec": {
   "display_name": "Python 3 (ipykernel)",
   "language": "python",
   "name": "python3"
  },
  "language_info": {
   "codemirror_mode": {
    "name": "ipython",
    "version": 3
   },
   "file_extension": ".py",
   "mimetype": "text/x-python",
   "name": "python",
   "nbconvert_exporter": "python",
   "pygments_lexer": "ipython3",
   "version": "3.8.10"
  }
 },
 "nbformat": 4,
 "nbformat_minor": 5
}
