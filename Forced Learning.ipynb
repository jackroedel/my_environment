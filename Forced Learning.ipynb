{
 "cells": [
  {
   "cell_type": "code",
   "execution_count": 26,
   "id": "587ab108",
   "metadata": {},
   "outputs": [],
   "source": [
    "import tensorflow as tf\n",
    "\n",
    "#Block of layers with bool for if grad = true\n",
    "#Grad = not true, no flatten and FCL\n",
    "\n",
    "class GroupedLayer(tf.keras.Model):\n",
    "    def __init__(self, filters, kernel_size, final_output):\n",
    "        super(GroupedLayer, self).__init__()\n",
    "        self.hidden_1 = tf.keras.layers.Conv2D(filters, kernel_size, strides=(1,1), padding=\"same\", activation='ReLU')\n",
    "        self.hidden_2 = tf.keras.layers.Conv2D(filters, kernel_size, strides=(1,1), padding=\"same\", activation='ReLU')\n",
    "        self.hidden_output = tf.keras.layers.Dense(units=final_output, activation='ReLU')\n",
    "        \n",
    "    def call(self, inputs):\n",
    "        inputs = self.hidden_1(inputs)\n",
    "        inputs = self.hidden_2(inputs)\n",
    "        return inputs\n",
    "    \n",
    "    def call_output(self, inputs):\n",
    "          return self.hidden_output(tf.keras.layers.Flatten()(self.call(inputs)))\n",
    "\n",
    "class GroupedLayerInput(tf.keras.Model):\n",
    "    def __init__(self, filters, kernel_size, final_output):\n",
    "        super(GroupedLayerInput, self).__init__()\n",
    "        self.input_block = tf.keras.Sequential(\n",
    "            [\n",
    "                tf.keras.Input(shape=(32, 32, 3)),\n",
    "                tf.keras.layers.Conv2D(64, (3, 3), strides=(2, 2), padding=\"same\", activation=\"ReLU\"),\n",
    "                tf.keras.layers.MaxPooling2D(pool_size=2),\n",
    "\n",
    "            ],\n",
    "            name=\"input\",\n",
    "        )\n",
    "        self.hidden = GroupedLayer(64, (3,3), 6)\n",
    "        \n",
    "    def call(self, inputs):\n",
    "        inputs = self.input_block(inputs)\n",
    "        inputs = self.hidden.call(inputs)\n",
    "        return inputs\n",
    "    \n",
    "    def call_output(self, inputs):\n",
    "          return self.hidden(tf.keras.layers.Flatten()(self.call(inputs)))\n",
    "\n",
    "grouped_block = GroupedLayer(64,3,10)"
   ]
  },
  {
   "cell_type": "code",
   "execution_count": 94,
   "id": "b9e10285",
   "metadata": {},
   "outputs": [],
   "source": [
    "loss_tracker = tf.keras.metrics.Mean(name=\"loss\")\n",
    "class ForcedLearnerClass(tf.keras.Model):\n",
    "    \n",
    "    def __init__(self, output_size):\n",
    "        super(ForcedLearnerClass, self).__init__()\n",
    "        self.input_block = tf.keras.Sequential([\n",
    "            GroupedLayerInput(filters=64,kernel_size=(3,3), final_output=6)\n",
    "        ])\n",
    "        \n",
    "        self.training_block_1 = [GroupedLayer(64, (64,64), 6) for _ in range(2)]\n",
    "        self.training_block_2 = [GroupedLayer(64, (64,64), 6) for _ in range(2)]\n",
    "        self.training_block_3 = [GroupedLayer(64, (64,64), 6) for _ in range(2)]\n",
    "        self.training_block_4 = [GroupedLayer(64, (64,64), 6) for _ in range(2)]\n",
    "    \n",
    "    def compile(self, optimizer, loss_fn):\n",
    "        super(ForcedLearnerClass, self).compile()\n",
    "        self.optimizer = optimizer\n",
    "        self.loss_fn = loss_fn\n",
    "        \n",
    "    def call(self, x):\n",
    "        x = self.input_block(x)\n",
    "        x = self.training_block_1(x)\n",
    "        x = self.training_block_2(x)\n",
    "        x = self.training_block_3(x)\n",
    "        return self.training_block_4.call_output(x)\n",
    "        \n",
    "    def train_step(self, data):\n",
    "        pred_output, y = data\n",
    "        \n",
    "        with tf.GradientTape(persistent=True) as tape:\n",
    "            pred_output_back_input = self.input_block(pred_output)\n",
    "            pred_output = self.input_block.call(pred_output)\n",
    "            \n",
    "            for i in range(2):\n",
    "                pred_output_back_1 = self.training_block_1[i].call_output(pred_output)\n",
    "                pred_output = self.training_block_1[i].call(pred_output)\n",
    "                \n",
    "            for i in range(2):\n",
    "                pred_output_back_2 = self.training_block_2[i].call_output(pred_output)\n",
    "                pred_output = self.training_block_2[i].call(pred_output)\n",
    "                \n",
    "            for i in range(2):\n",
    "                pred_output_back_3 = self.training_block_3[i].call_output(pred_output)\n",
    "                pred_output = self.training_block_3[i].call(pred_output)\n",
    "                \n",
    "            for i in range(2):\n",
    "                pred_output_back_4 = self.training_block_4[i].call_output(pred_output)\n",
    "                pred_output = self.training_block_4[i].call(pred_output)\n",
    "            \n",
    "            loss_input = self.loss_fn(y, pred_output_back_input)\n",
    "            loss_1 = self.loss_fn(y, pred_output_back_1)\n",
    "            loss_2 = self.loss_fn(y, pred_output_back_2)\n",
    "            loss_3 = self.loss_fn(y, pred_output_back_3)            \n",
    "            loss_4 = self.loss_fn(y, pred_output_back_4)   \n",
    "    \n",
    "        #mae_metric = keras.metrics.MeanAbsoluteError(name=\"mae\")\n",
    "        gradients_input = tape.gradient(loss_input, self.input_block.trainable_variables)\n",
    "        gradients_1 = tape.gradient(loss_1, self.training_block_1.trainable_variables)\n",
    "        gradients_2 = tape.gradient(loss_2, self.training_block_2.trainable_variables)\n",
    "        gradients_3 = tape.gradient(loss_3, self.training_block_3.trainable_variables)\n",
    "        gradients_4 = tape.gradient(loss_4, self.training_block_4.trainable_variables)\n",
    "\n",
    "        #Update weights\n",
    "        self.optimizer.apply_gradients(zip(gradients_input, self.input_block.trainable_variables))\n",
    "        self.optimizer.apply_gradients(zip(gradients_1, self.training_block_1.trainable_variables))\n",
    "        self.optimizer.apply_gradients(zip(gradients_2, self.training_block_2.trainable_variables))\n",
    "        self.optimizer.apply_gradients(zip(gradients_3, self.training_block_3.trainable_variables))\n",
    "        self.optimizer.apply_gradients(zip(gradients_4, self.training_block_4.trainable_variables))\n",
    "         \n",
    "        #Compute our own metrics\n",
    "        loss_tracker.update_state(loss_4)\n",
    "        #mae_metric.update_state(y, y_pred)\n",
    "        #\"mae\": mae_metric.result()\n",
    "        return {\"loss\": loss_tracker.result()}"
   ]
  },
  {
   "cell_type": "code",
   "execution_count": 20,
   "id": "6dce5f4a",
   "metadata": {},
   "outputs": [
    {
     "name": "stdout",
     "output_type": "stream",
     "text": [
      "Model: \"sequential_2\"\n",
      "_________________________________________________________________\n",
      " Layer (type)                Output Shape              Param #   \n",
      "=================================================================\n",
      " grouped_layer_23 (GroupedLa  (16, 224, 224, 64)       17563776  \n",
      " yer)                                                            \n",
      "                                                                 \n",
      " grouped_layer_24 (GroupedLa  (16, 224, 224, 64)       33554560  \n",
      " yer)                                                            \n",
      "                                                                 \n",
      "=================================================================\n",
      "Total params: 51,118,336\n",
      "Trainable params: 51,118,336\n",
      "Non-trainable params: 0\n",
      "_________________________________________________________________\n"
     ]
    }
   ],
   "source": [
    "import tensorflow as tf\n",
    "training_block_1 = tf.keras.Sequential(\n",
    "            [\n",
    "                GroupedLayer(64, (64,64), 6) for _ in range(2)\n",
    "            ]\n",
    "        )\n",
    "\n",
    "training_block_1.build((16,224,224,3))\n",
    "\n",
    "training_block_1.summary()\n",
    "training_block_1.trainable_variables\n",
    "training_block_1.compile()"
   ]
  },
  {
   "cell_type": "code",
   "execution_count": null,
   "id": "8c8311c4",
   "metadata": {},
   "outputs": [],
   "source": [
    "network_block = GroupedLayerInput(2, (3,3), 6)\n",
    "\n",
    "network_block.build((16,224,224,3))"
   ]
  },
  {
   "cell_type": "code",
   "execution_count": 95,
   "id": "ab2e340b",
   "metadata": {},
   "outputs": [],
   "source": [
    "forced_learner = ForcedLearnerClass(output_size=6)\n",
    "forced_learner.compile(\n",
    "    optimizer=tf.keras.optimizers.Adam(learning_rate=0.0003),\n",
    "    loss_fn=tf.keras.losses.Huber(),\n",
    ")"
   ]
  },
  {
   "cell_type": "code",
   "execution_count": 96,
   "id": "22bf7635",
   "metadata": {},
   "outputs": [],
   "source": [
    "batch_size = 64\n",
    "(x_train, Y_train), (x_test, Y_test) = tf.keras.datasets.cifar10.load_data()"
   ]
  },
  {
   "cell_type": "code",
   "execution_count": 97,
   "id": "a817c0dd",
   "metadata": {},
   "outputs": [],
   "source": [
    "import numpy as np\n",
    "all_digits = np.concatenate([x_train, x_test])\n",
    "all_output = np.concatenate([Y_train, Y_test])\n",
    "all_digits = all_digits.astype(\"float32\") / 255.0"
   ]
  },
  {
   "cell_type": "code",
   "execution_count": 98,
   "id": "8086745e",
   "metadata": {},
   "outputs": [],
   "source": [
    "all_digits = np.reshape(all_digits, (-1, 32, 32, 3))\n",
    "dataset_img = tf.data.Dataset.from_tensor_slices(all_digits)\n",
    "dataset_out = tf.data.Dataset.from_tensor_slices(all_output)\n",
    "dataset = tf.data.Dataset.zip((dataset_img, dataset_out))\n",
    "dataset = dataset.shuffle(buffer_size=1024).batch(batch_size)"
   ]
  },
  {
   "cell_type": "code",
   "execution_count": 99,
   "id": "e8d54ebc",
   "metadata": {
    "scrolled": true
   },
   "outputs": [
    {
     "name": "stdout",
     "output_type": "stream",
     "text": [
      "Epoch 1/10\n",
      "WARNING:tensorflow:Gradients do not exist for variables ['dense_135/kernel:0', 'dense_135/bias:0'] when minimizing the loss. If you're using `model.compile()`, did you forget to provide a `loss`argument?\n",
      "WARNING:tensorflow:Gradients do not exist for variables ['dense_137/kernel:0', 'dense_137/bias:0'] when minimizing the loss. If you're using `model.compile()`, did you forget to provide a `loss`argument?\n",
      "WARNING:tensorflow:Gradients do not exist for variables ['dense_139/kernel:0', 'dense_139/bias:0'] when minimizing the loss. If you're using `model.compile()`, did you forget to provide a `loss`argument?\n",
      "WARNING:tensorflow:Gradients do not exist for variables ['dense_141/kernel:0', 'dense_141/bias:0'] when minimizing the loss. If you're using `model.compile()`, did you forget to provide a `loss`argument?\n",
      "WARNING:tensorflow:Gradients do not exist for variables ['dense_135/kernel:0', 'dense_135/bias:0'] when minimizing the loss. If you're using `model.compile()`, did you forget to provide a `loss`argument?\n",
      "WARNING:tensorflow:Gradients do not exist for variables ['dense_137/kernel:0', 'dense_137/bias:0'] when minimizing the loss. If you're using `model.compile()`, did you forget to provide a `loss`argument?\n",
      "WARNING:tensorflow:Gradients do not exist for variables ['dense_139/kernel:0', 'dense_139/bias:0'] when minimizing the loss. If you're using `model.compile()`, did you forget to provide a `loss`argument?\n",
      "WARNING:tensorflow:Gradients do not exist for variables ['dense_141/kernel:0', 'dense_141/bias:0'] when minimizing the loss. If you're using `model.compile()`, did you forget to provide a `loss`argument?\n"
     ]
    },
    {
     "ename": "InvalidArgumentError",
     "evalue": " Incompatible shapes: [64,8,8,64] vs. [64,1]\n\t [[node gradient_tape/huber_loss/BroadcastGradientArgs_2\n (defined at /tmp/ipykernel_14588/4073329151.py:57)\n]] [Op:__inference_train_function_23195]\n\nErrors may have originated from an input operation.\nInput Source operations connected to node gradient_tape/huber_loss/BroadcastGradientArgs_2:\nIn[0] gradient_tape/huber_loss/Shape_7:\t\nIn[1] gradient_tape/huber_loss/Shape_8:\n\nOperation defined at: (most recent call last)\n>>>   File \"/usr/lib/python3.8/runpy.py\", line 194, in _run_module_as_main\n>>>     return _run_code(code, main_globals, None,\n>>> \n>>>   File \"/usr/lib/python3.8/runpy.py\", line 87, in _run_code\n>>>     exec(code, run_globals)\n>>> \n>>>   File \"/home/jack/ml/my_env/lib/python3.8/site-packages/ipykernel_launcher.py\", line 16, in <module>\n>>>     app.launch_new_instance()\n>>> \n>>>   File \"/home/jack/ml/my_env/lib/python3.8/site-packages/traitlets/config/application.py\", line 846, in launch_instance\n>>>     app.start()\n>>> \n>>>   File \"/home/jack/ml/my_env/lib/python3.8/site-packages/ipykernel/kernelapp.py\", line 677, in start\n>>>     self.io_loop.start()\n>>> \n>>>   File \"/home/jack/ml/my_env/lib/python3.8/site-packages/tornado/platform/asyncio.py\", line 199, in start\n>>>     self.asyncio_loop.run_forever()\n>>> \n>>>   File \"/usr/lib/python3.8/asyncio/base_events.py\", line 570, in run_forever\n>>>     self._run_once()\n>>> \n>>>   File \"/usr/lib/python3.8/asyncio/base_events.py\", line 1859, in _run_once\n>>>     handle._run()\n>>> \n>>>   File \"/usr/lib/python3.8/asyncio/events.py\", line 81, in _run\n>>>     self._context.run(self._callback, *self._args)\n>>> \n>>>   File \"/home/jack/ml/my_env/lib/python3.8/site-packages/ipykernel/kernelbase.py\", line 457, in dispatch_queue\n>>>     await self.process_one()\n>>> \n>>>   File \"/home/jack/ml/my_env/lib/python3.8/site-packages/ipykernel/kernelbase.py\", line 446, in process_one\n>>>     await dispatch(*args)\n>>> \n>>>   File \"/home/jack/ml/my_env/lib/python3.8/site-packages/ipykernel/kernelbase.py\", line 353, in dispatch_shell\n>>>     await result\n>>> \n>>>   File \"/home/jack/ml/my_env/lib/python3.8/site-packages/ipykernel/kernelbase.py\", line 648, in execute_request\n>>>     reply_content = await reply_content\n>>> \n>>>   File \"/home/jack/ml/my_env/lib/python3.8/site-packages/ipykernel/ipkernel.py\", line 353, in do_execute\n>>>     res = shell.run_cell(code, store_history=store_history, silent=silent)\n>>> \n>>>   File \"/home/jack/ml/my_env/lib/python3.8/site-packages/ipykernel/zmqshell.py\", line 533, in run_cell\n>>>     return super(ZMQInteractiveShell, self).run_cell(*args, **kwargs)\n>>> \n>>>   File \"/home/jack/ml/my_env/lib/python3.8/site-packages/IPython/core/interactiveshell.py\", line 2901, in run_cell\n>>>     result = self._run_cell(\n>>> \n>>>   File \"/home/jack/ml/my_env/lib/python3.8/site-packages/IPython/core/interactiveshell.py\", line 2947, in _run_cell\n>>>     return runner(coro)\n>>> \n>>>   File \"/home/jack/ml/my_env/lib/python3.8/site-packages/IPython/core/async_helpers.py\", line 68, in _pseudo_sync_runner\n>>>     coro.send(None)\n>>> \n>>>   File \"/home/jack/ml/my_env/lib/python3.8/site-packages/IPython/core/interactiveshell.py\", line 3172, in run_cell_async\n>>>     has_raised = await self.run_ast_nodes(code_ast.body, cell_name,\n>>> \n>>>   File \"/home/jack/ml/my_env/lib/python3.8/site-packages/IPython/core/interactiveshell.py\", line 3364, in run_ast_nodes\n>>>     if (await self.run_code(code, result,  async_=asy)):\n>>> \n>>>   File \"/home/jack/ml/my_env/lib/python3.8/site-packages/IPython/core/interactiveshell.py\", line 3444, in run_code\n>>>     exec(code_obj, self.user_global_ns, self.user_ns)\n>>> \n>>>   File \"/tmp/ipykernel_14588/980347114.py\", line 1, in <module>\n>>>     history = forced_learner.fit(dataset, epochs=10)\n>>> \n>>>   File \"/home/jack/ml/my_env/lib/python3.8/site-packages/keras/utils/traceback_utils.py\", line 64, in error_handler\n>>>     return fn(*args, **kwargs)\n>>> \n>>>   File \"/home/jack/ml/my_env/lib/python3.8/site-packages/keras/engine/training.py\", line 1216, in fit\n>>>     tmp_logs = self.train_function(iterator)\n>>> \n>>>   File \"/home/jack/ml/my_env/lib/python3.8/site-packages/keras/engine/training.py\", line 878, in train_function\n>>>     return step_function(self, iterator)\n>>> \n>>>   File \"/home/jack/ml/my_env/lib/python3.8/site-packages/keras/engine/training.py\", line 867, in step_function\n>>>     outputs = model.distribute_strategy.run(run_step, args=(data,))\n>>> \n>>>   File \"/home/jack/ml/my_env/lib/python3.8/site-packages/keras/engine/training.py\", line 860, in run_step\n>>>     outputs = model.train_step(data)\n>>> \n>>>   File \"/tmp/ipykernel_14588/4073329151.py\", line 57, in train_step\n>>>     gradients_input = tape.gradient(loss_input, self.input_block.trainable_variables)\n>>> ",
     "output_type": "error",
     "traceback": [
      "\u001b[0;31m---------------------------------------------------------------------------\u001b[0m",
      "\u001b[0;31mInvalidArgumentError\u001b[0m                      Traceback (most recent call last)",
      "\u001b[0;32m/tmp/ipykernel_14588/980347114.py\u001b[0m in \u001b[0;36m<module>\u001b[0;34m\u001b[0m\n\u001b[0;32m----> 1\u001b[0;31m \u001b[0mhistory\u001b[0m \u001b[0;34m=\u001b[0m \u001b[0mforced_learner\u001b[0m\u001b[0;34m.\u001b[0m\u001b[0mfit\u001b[0m\u001b[0;34m(\u001b[0m\u001b[0mdataset\u001b[0m\u001b[0;34m,\u001b[0m \u001b[0mepochs\u001b[0m\u001b[0;34m=\u001b[0m\u001b[0;36m10\u001b[0m\u001b[0;34m)\u001b[0m\u001b[0;34m\u001b[0m\u001b[0;34m\u001b[0m\u001b[0m\n\u001b[0m",
      "\u001b[0;32m~/ml/my_env/lib/python3.8/site-packages/keras/utils/traceback_utils.py\u001b[0m in \u001b[0;36merror_handler\u001b[0;34m(*args, **kwargs)\u001b[0m\n\u001b[1;32m     65\u001b[0m     \u001b[0;32mexcept\u001b[0m \u001b[0mException\u001b[0m \u001b[0;32mas\u001b[0m \u001b[0me\u001b[0m\u001b[0;34m:\u001b[0m  \u001b[0;31m# pylint: disable=broad-except\u001b[0m\u001b[0;34m\u001b[0m\u001b[0;34m\u001b[0m\u001b[0m\n\u001b[1;32m     66\u001b[0m       \u001b[0mfiltered_tb\u001b[0m \u001b[0;34m=\u001b[0m \u001b[0m_process_traceback_frames\u001b[0m\u001b[0;34m(\u001b[0m\u001b[0me\u001b[0m\u001b[0;34m.\u001b[0m\u001b[0m__traceback__\u001b[0m\u001b[0;34m)\u001b[0m\u001b[0;34m\u001b[0m\u001b[0;34m\u001b[0m\u001b[0m\n\u001b[0;32m---> 67\u001b[0;31m       \u001b[0;32mraise\u001b[0m \u001b[0me\u001b[0m\u001b[0;34m.\u001b[0m\u001b[0mwith_traceback\u001b[0m\u001b[0;34m(\u001b[0m\u001b[0mfiltered_tb\u001b[0m\u001b[0;34m)\u001b[0m \u001b[0;32mfrom\u001b[0m \u001b[0;32mNone\u001b[0m\u001b[0;34m\u001b[0m\u001b[0;34m\u001b[0m\u001b[0m\n\u001b[0m\u001b[1;32m     68\u001b[0m     \u001b[0;32mfinally\u001b[0m\u001b[0;34m:\u001b[0m\u001b[0;34m\u001b[0m\u001b[0;34m\u001b[0m\u001b[0m\n\u001b[1;32m     69\u001b[0m       \u001b[0;32mdel\u001b[0m \u001b[0mfiltered_tb\u001b[0m\u001b[0;34m\u001b[0m\u001b[0;34m\u001b[0m\u001b[0m\n",
      "\u001b[0;32m~/ml/my_env/lib/python3.8/site-packages/tensorflow/python/eager/execute.py\u001b[0m in \u001b[0;36mquick_execute\u001b[0;34m(op_name, num_outputs, inputs, attrs, ctx, name)\u001b[0m\n\u001b[1;32m     56\u001b[0m   \u001b[0;32mtry\u001b[0m\u001b[0;34m:\u001b[0m\u001b[0;34m\u001b[0m\u001b[0;34m\u001b[0m\u001b[0m\n\u001b[1;32m     57\u001b[0m     \u001b[0mctx\u001b[0m\u001b[0;34m.\u001b[0m\u001b[0mensure_initialized\u001b[0m\u001b[0;34m(\u001b[0m\u001b[0;34m)\u001b[0m\u001b[0;34m\u001b[0m\u001b[0;34m\u001b[0m\u001b[0m\n\u001b[0;32m---> 58\u001b[0;31m     tensors = pywrap_tfe.TFE_Py_Execute(ctx._handle, device_name, op_name,\n\u001b[0m\u001b[1;32m     59\u001b[0m                                         inputs, attrs, num_outputs)\n\u001b[1;32m     60\u001b[0m   \u001b[0;32mexcept\u001b[0m \u001b[0mcore\u001b[0m\u001b[0;34m.\u001b[0m\u001b[0m_NotOkStatusException\u001b[0m \u001b[0;32mas\u001b[0m \u001b[0me\u001b[0m\u001b[0;34m:\u001b[0m\u001b[0;34m\u001b[0m\u001b[0;34m\u001b[0m\u001b[0m\n",
      "\u001b[0;31mInvalidArgumentError\u001b[0m:  Incompatible shapes: [64,8,8,64] vs. [64,1]\n\t [[node gradient_tape/huber_loss/BroadcastGradientArgs_2\n (defined at /tmp/ipykernel_14588/4073329151.py:57)\n]] [Op:__inference_train_function_23195]\n\nErrors may have originated from an input operation.\nInput Source operations connected to node gradient_tape/huber_loss/BroadcastGradientArgs_2:\nIn[0] gradient_tape/huber_loss/Shape_7:\t\nIn[1] gradient_tape/huber_loss/Shape_8:\n\nOperation defined at: (most recent call last)\n>>>   File \"/usr/lib/python3.8/runpy.py\", line 194, in _run_module_as_main\n>>>     return _run_code(code, main_globals, None,\n>>> \n>>>   File \"/usr/lib/python3.8/runpy.py\", line 87, in _run_code\n>>>     exec(code, run_globals)\n>>> \n>>>   File \"/home/jack/ml/my_env/lib/python3.8/site-packages/ipykernel_launcher.py\", line 16, in <module>\n>>>     app.launch_new_instance()\n>>> \n>>>   File \"/home/jack/ml/my_env/lib/python3.8/site-packages/traitlets/config/application.py\", line 846, in launch_instance\n>>>     app.start()\n>>> \n>>>   File \"/home/jack/ml/my_env/lib/python3.8/site-packages/ipykernel/kernelapp.py\", line 677, in start\n>>>     self.io_loop.start()\n>>> \n>>>   File \"/home/jack/ml/my_env/lib/python3.8/site-packages/tornado/platform/asyncio.py\", line 199, in start\n>>>     self.asyncio_loop.run_forever()\n>>> \n>>>   File \"/usr/lib/python3.8/asyncio/base_events.py\", line 570, in run_forever\n>>>     self._run_once()\n>>> \n>>>   File \"/usr/lib/python3.8/asyncio/base_events.py\", line 1859, in _run_once\n>>>     handle._run()\n>>> \n>>>   File \"/usr/lib/python3.8/asyncio/events.py\", line 81, in _run\n>>>     self._context.run(self._callback, *self._args)\n>>> \n>>>   File \"/home/jack/ml/my_env/lib/python3.8/site-packages/ipykernel/kernelbase.py\", line 457, in dispatch_queue\n>>>     await self.process_one()\n>>> \n>>>   File \"/home/jack/ml/my_env/lib/python3.8/site-packages/ipykernel/kernelbase.py\", line 446, in process_one\n>>>     await dispatch(*args)\n>>> \n>>>   File \"/home/jack/ml/my_env/lib/python3.8/site-packages/ipykernel/kernelbase.py\", line 353, in dispatch_shell\n>>>     await result\n>>> \n>>>   File \"/home/jack/ml/my_env/lib/python3.8/site-packages/ipykernel/kernelbase.py\", line 648, in execute_request\n>>>     reply_content = await reply_content\n>>> \n>>>   File \"/home/jack/ml/my_env/lib/python3.8/site-packages/ipykernel/ipkernel.py\", line 353, in do_execute\n>>>     res = shell.run_cell(code, store_history=store_history, silent=silent)\n>>> \n>>>   File \"/home/jack/ml/my_env/lib/python3.8/site-packages/ipykernel/zmqshell.py\", line 533, in run_cell\n>>>     return super(ZMQInteractiveShell, self).run_cell(*args, **kwargs)\n>>> \n>>>   File \"/home/jack/ml/my_env/lib/python3.8/site-packages/IPython/core/interactiveshell.py\", line 2901, in run_cell\n>>>     result = self._run_cell(\n>>> \n>>>   File \"/home/jack/ml/my_env/lib/python3.8/site-packages/IPython/core/interactiveshell.py\", line 2947, in _run_cell\n>>>     return runner(coro)\n>>> \n>>>   File \"/home/jack/ml/my_env/lib/python3.8/site-packages/IPython/core/async_helpers.py\", line 68, in _pseudo_sync_runner\n>>>     coro.send(None)\n>>> \n>>>   File \"/home/jack/ml/my_env/lib/python3.8/site-packages/IPython/core/interactiveshell.py\", line 3172, in run_cell_async\n>>>     has_raised = await self.run_ast_nodes(code_ast.body, cell_name,\n>>> \n>>>   File \"/home/jack/ml/my_env/lib/python3.8/site-packages/IPython/core/interactiveshell.py\", line 3364, in run_ast_nodes\n>>>     if (await self.run_code(code, result,  async_=asy)):\n>>> \n>>>   File \"/home/jack/ml/my_env/lib/python3.8/site-packages/IPython/core/interactiveshell.py\", line 3444, in run_code\n>>>     exec(code_obj, self.user_global_ns, self.user_ns)\n>>> \n>>>   File \"/tmp/ipykernel_14588/980347114.py\", line 1, in <module>\n>>>     history = forced_learner.fit(dataset, epochs=10)\n>>> \n>>>   File \"/home/jack/ml/my_env/lib/python3.8/site-packages/keras/utils/traceback_utils.py\", line 64, in error_handler\n>>>     return fn(*args, **kwargs)\n>>> \n>>>   File \"/home/jack/ml/my_env/lib/python3.8/site-packages/keras/engine/training.py\", line 1216, in fit\n>>>     tmp_logs = self.train_function(iterator)\n>>> \n>>>   File \"/home/jack/ml/my_env/lib/python3.8/site-packages/keras/engine/training.py\", line 878, in train_function\n>>>     return step_function(self, iterator)\n>>> \n>>>   File \"/home/jack/ml/my_env/lib/python3.8/site-packages/keras/engine/training.py\", line 867, in step_function\n>>>     outputs = model.distribute_strategy.run(run_step, args=(data,))\n>>> \n>>>   File \"/home/jack/ml/my_env/lib/python3.8/site-packages/keras/engine/training.py\", line 860, in run_step\n>>>     outputs = model.train_step(data)\n>>> \n>>>   File \"/tmp/ipykernel_14588/4073329151.py\", line 57, in train_step\n>>>     gradients_input = tape.gradient(loss_input, self.input_block.trainable_variables)\n>>> "
     ]
    }
   ],
   "source": [
    "history = forced_learner.fit(dataset, epochs=10)"
   ]
  },
  {
   "cell_type": "code",
   "execution_count": null,
   "id": "556371ed",
   "metadata": {},
   "outputs": [],
   "source": [
    "print(dataset.take(1))"
   ]
  },
  {
   "cell_type": "code",
   "execution_count": null,
   "id": "6abb9e1b",
   "metadata": {},
   "outputs": [],
   "source": [
    "for i in range(2):\n",
    "    print(i)"
   ]
  },
  {
   "cell_type": "code",
   "execution_count": 93,
   "id": "1391a304",
   "metadata": {},
   "outputs": [
    {
     "name": "stdout",
     "output_type": "stream",
     "text": [
      "0\n",
      "1\n"
     ]
    }
   ],
   "source": [
    "for i in range(2):\n",
    "    print(i)"
   ]
  },
  {
   "cell_type": "code",
   "execution_count": null,
   "id": "01eba0a6",
   "metadata": {},
   "outputs": [],
   "source": [
    "input_block = GroupedLayerInput(filters=64,kernel_size=(3,3), final_output=6)\n",
    "training_block_1 = [GroupedLayer(64, (64,64), 6) for _ in range(2)]\n",
    "training_block_2 = [GroupedLayer(64, (64,64), 6) for _ in range(2)]\n",
    "training_block_3 = [GroupedLayer(64, (64,64), 6) for _ in range(2)]\n",
    "training_block_4 = [GroupedLayer(64, (64,64), 6) for _ in range(2)]"
   ]
  },
  {
   "cell_type": "code",
   "execution_count": null,
   "id": "1c829cf3",
   "metadata": {},
   "outputs": [],
   "source": [
    "training_block_1[1].build((16,224,224,3))\n",
    "training_block_1[1].non_trainable_weights"
   ]
  },
  {
   "cell_type": "code",
   "execution_count": null,
   "id": "08dd4fc3",
   "metadata": {},
   "outputs": [],
   "source": [
    "optimizer = tf.keras.optimizers.Adam(learning_rate=1e-3)\n",
    "mse_loss_fn = tf.keras.losses.MeanSquaredError()\n",
    "epochs = 2\n",
    "\n",
    "# Iterate over epochs.\n",
    "for epoch in range(epochs):\n",
    "    print(\"Start of epoch %d\" % (epoch,))\n",
    "\n",
    "    # Iterate over the batches of the dataset.\n",
    "    for step, x_batch_train in enumerate(train_dataset):\n",
    "        with tf.GradientTape() as tape:\n",
    "           \n",
    "        \n",
    "            #Compute Loss\n",
    "            loss = mse_loss_fn(x_batch_train, reconstructed)\n",
    "            loss += sum(vae.losses)  # Add KLD regularization loss\n",
    "\n",
    "        grads = tape.gradient(loss, vae.trainable_weights)\n",
    "        optimizer.apply_gradients(zip(grads, vae.trainable_weights))\n",
    "\n",
    "        loss_metric(loss)\n",
    "\n",
    "        if step % 100 == 0:\n",
    "            print(\"step %d: mean loss = %.4f\" % (step, loss_metric.result()))\n"
   ]
  }
 ],
 "metadata": {
  "kernelspec": {
   "display_name": "Python 3 (ipykernel)",
   "language": "python",
   "name": "python3"
  },
  "language_info": {
   "codemirror_mode": {
    "name": "ipython",
    "version": 3
   },
   "file_extension": ".py",
   "mimetype": "text/x-python",
   "name": "python",
   "nbconvert_exporter": "python",
   "pygments_lexer": "ipython3",
   "version": "3.8.10"
  }
 },
 "nbformat": 4,
 "nbformat_minor": 5
}
